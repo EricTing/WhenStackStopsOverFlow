{
 "cells": [
  {
   "cell_type": "code",
   "execution_count": 1,
   "metadata": {
    "collapsed": false
   },
   "outputs": [
    {
     "name": "stderr",
     "output_type": "stream",
     "text": [
      "/Users/eric/anaconda2/lib/python2.7/site-packages/IPython/core/magics/extension.py:47: UserWarning: %install_ext` is deprecated, please distribute your extension as a python package.\n",
      "  \"as a python package.\", UserWarning)\n"
     ]
    },
    {
     "name": "stdout",
     "output_type": "stream",
     "text": [
      "Installed version_information.py. To use it, type:\n",
      "  %load_ext version_information\n"
     ]
    },
    {
     "data": {
      "application/json": {
       "Software versions": [
        {
         "module": "Python",
         "version": "2.7.11 64bit [GCC 4.2.1 (Apple Inc. build 5577)]"
        },
        {
         "module": "IPython",
         "version": "4.1.2"
        },
        {
         "module": "OS",
         "version": "Darwin 15.5.0 x86_64 i386 64bit"
        },
        {
         "module": "numpy",
         "version": "1.10.4"
        },
        {
         "module": "scipy",
         "version": "0.17.0"
        },
        {
         "module": "matplotlib",
         "version": "1.5.1"
        },
        {
         "module": "pandas",
         "version": "0.17.1"
        }
       ]
      },
      "text/html": [
       "<table><tr><th>Software</th><th>Version</th></tr><tr><td>Python</td><td>2.7.11 64bit [GCC 4.2.1 (Apple Inc. build 5577)]</td></tr><tr><td>IPython</td><td>4.1.2</td></tr><tr><td>OS</td><td>Darwin 15.5.0 x86_64 i386 64bit</td></tr><tr><td>numpy</td><td>1.10.4</td></tr><tr><td>scipy</td><td>0.17.0</td></tr><tr><td>matplotlib</td><td>1.5.1</td></tr><tr><td>pandas</td><td>0.17.1</td></tr><tr><td colspan='2'>Sun Jun 05 18:17:20 2016 PDT</td></tr></table>"
      ],
      "text/latex": [
       "\\begin{tabular}{|l|l|}\\hline\n",
       "{\\bf Software} & {\\bf Version} \\\\ \\hline\\hline\n",
       "Python & 2.7.11 64bit [GCC 4.2.1 (Apple Inc. build 5577)] \\\\ \\hline\n",
       "IPython & 4.1.2 \\\\ \\hline\n",
       "OS & Darwin 15.5.0 x86\\_64 i386 64bit \\\\ \\hline\n",
       "numpy & 1.10.4 \\\\ \\hline\n",
       "scipy & 0.17.0 \\\\ \\hline\n",
       "matplotlib & 1.5.1 \\\\ \\hline\n",
       "pandas & 0.17.1 \\\\ \\hline\n",
       "\\hline \\multicolumn{2}{|l|}{Sun Jun 05 18:17:20 2016 PDT} \\\\ \\hline\n",
       "\\end{tabular}\n"
      ],
      "text/plain": [
       "Software versions\n",
       "Python 2.7.11 64bit [GCC 4.2.1 (Apple Inc. build 5577)]\n",
       "IPython 4.1.2\n",
       "OS Darwin 15.5.0 x86_64 i386 64bit\n",
       "numpy 1.10.4\n",
       "scipy 0.17.0\n",
       "matplotlib 1.5.1\n",
       "pandas 0.17.1\n",
       "Sun Jun 05 18:17:20 2016 PDT"
      ]
     },
     "execution_count": 1,
     "metadata": {},
     "output_type": "execute_result"
    }
   ],
   "source": [
    "%install_ext http://raw.github.com/jrjohansson/version_information/master/version_information.py\n",
    "%load_ext version_information\n",
    "%reload_ext version_information\n",
    "%version_information numpy, scipy, matplotlib, pandas"
   ]
  },
  {
   "cell_type": "code",
   "execution_count": 2,
   "metadata": {
    "collapsed": false
   },
   "outputs": [],
   "source": [
    "# Couldn't find what to do with 'magic' imports at the top\n",
    "\n",
    "%load_ext autoreload\n",
    "%autoreload 2\n",
    "%matplotlib inline\n",
    "%config InlineBackend.figure_format='retina' \n",
    "\n",
    "# Add this to python2 code to make life easier\n",
    "from __future__ import absolute_import, division, print_function\n",
    "\n",
    "from itertools import combinations\n",
    "import string\n",
    "\n",
    "from IPython.display import IFrame, HTML, YouTubeVideo\n",
    "import matplotlib.pyplot as plt\n",
    "import numpy as np\n",
    "import pandas as pd\n",
    "import scipy as sp\n",
    "import seaborn as sns\n",
    "\n",
    "sns.set();\n",
    "plt.rcParams['figure.figsize'] = (12, 8)\n",
    "sns.set_style(\"darkgrid\")\n",
    "sns.set_context(\"poster\", font_scale=1.3)"
   ]
  },
  {
   "cell_type": "code",
   "execution_count": 3,
   "metadata": {
    "collapsed": true
   },
   "outputs": [],
   "source": [
    "posts_ifn = './data/2016-05-01/posts.csv'"
   ]
  },
  {
   "cell_type": "code",
   "execution_count": 4,
   "metadata": {
    "collapsed": true
   },
   "outputs": [],
   "source": [
    "posts_df = pd.read_csv(posts_ifn)"
   ]
  },
  {
   "cell_type": "code",
   "execution_count": 5,
   "metadata": {
    "collapsed": false
   },
   "outputs": [],
   "source": [
    "posts_df['CreationDate'] = pd.to_datetime(posts_df['CreationDate'])"
   ]
  },
  {
   "cell_type": "code",
   "execution_count": 6,
   "metadata": {
    "collapsed": false
   },
   "outputs": [
    {
     "data": {
      "text/html": [
       "<div>\n",
       "<table border=\"1\" class=\"dataframe\">\n",
       "  <thead>\n",
       "    <tr style=\"text-align: right;\">\n",
       "      <th></th>\n",
       "      <th>Id</th>\n",
       "      <th>PostTypeId</th>\n",
       "      <th>AcceptedAnswerId</th>\n",
       "      <th>ParentId</th>\n",
       "      <th>CreationDate</th>\n",
       "      <th>DeletionDate</th>\n",
       "      <th>Score</th>\n",
       "      <th>ViewCount</th>\n",
       "      <th>Body</th>\n",
       "      <th>OwnerUserId</th>\n",
       "      <th>...</th>\n",
       "      <th>LastEditorDisplayName</th>\n",
       "      <th>LastEditDate</th>\n",
       "      <th>LastActivityDate</th>\n",
       "      <th>Title</th>\n",
       "      <th>Tags</th>\n",
       "      <th>AnswerCount</th>\n",
       "      <th>CommentCount</th>\n",
       "      <th>FavoriteCount</th>\n",
       "      <th>ClosedDate</th>\n",
       "      <th>CommunityOwnedDate</th>\n",
       "    </tr>\n",
       "  </thead>\n",
       "  <tbody>\n",
       "    <tr>\n",
       "      <th>0</th>\n",
       "      <td>37483588</td>\n",
       "      <td>2</td>\n",
       "      <td>NaN</td>\n",
       "      <td>37481604</td>\n",
       "      <td>2016-05-27 12:27:08</td>\n",
       "      <td>NaN</td>\n",
       "      <td>0</td>\n",
       "      <td>NaN</td>\n",
       "      <td>&lt;p&gt;ZF2 seems not to provide a solution for thi...</td>\n",
       "      <td>2019043</td>\n",
       "      <td>...</td>\n",
       "      <td>NaN</td>\n",
       "      <td>2016-05-27 16:25:00</td>\n",
       "      <td>2016-05-27 16:25:00</td>\n",
       "      <td>NaN</td>\n",
       "      <td>NaN</td>\n",
       "      <td>NaN</td>\n",
       "      <td>0</td>\n",
       "      <td>NaN</td>\n",
       "      <td>NaN</td>\n",
       "      <td>NaN</td>\n",
       "    </tr>\n",
       "    <tr>\n",
       "      <th>1</th>\n",
       "      <td>37483590</td>\n",
       "      <td>1</td>\n",
       "      <td>NaN</td>\n",
       "      <td>NaN</td>\n",
       "      <td>2016-05-27 12:27:12</td>\n",
       "      <td>NaN</td>\n",
       "      <td>3</td>\n",
       "      <td>41</td>\n",
       "      <td>&lt;p&gt;I am trying to run migrations with custom D...</td>\n",
       "      <td>994154</td>\n",
       "      <td>...</td>\n",
       "      <td>NaN</td>\n",
       "      <td>2016-05-27 17:37:51</td>\n",
       "      <td>2016-05-27 17:37:51</td>\n",
       "      <td>Provide an implementation of IDbContextFactory...</td>\n",
       "      <td>&lt;c#&gt;&lt;entity-framework&gt;&lt;ef-migrations&gt;</td>\n",
       "      <td>1</td>\n",
       "      <td>2</td>\n",
       "      <td>NaN</td>\n",
       "      <td>NaN</td>\n",
       "      <td>NaN</td>\n",
       "    </tr>\n",
       "    <tr>\n",
       "      <th>2</th>\n",
       "      <td>37483591</td>\n",
       "      <td>2</td>\n",
       "      <td>NaN</td>\n",
       "      <td>3997152</td>\n",
       "      <td>2016-05-27 12:27:16</td>\n",
       "      <td>NaN</td>\n",
       "      <td>0</td>\n",
       "      <td>NaN</td>\n",
       "      <td>&lt;p&gt;There is a better way to do this: \"Project ...</td>\n",
       "      <td>NaN</td>\n",
       "      <td>...</td>\n",
       "      <td>NaN</td>\n",
       "      <td>NaN</td>\n",
       "      <td>2016-05-27 12:27:16</td>\n",
       "      <td>NaN</td>\n",
       "      <td>NaN</td>\n",
       "      <td>NaN</td>\n",
       "      <td>0</td>\n",
       "      <td>NaN</td>\n",
       "      <td>NaN</td>\n",
       "      <td>NaN</td>\n",
       "    </tr>\n",
       "    <tr>\n",
       "      <th>3</th>\n",
       "      <td>37483592</td>\n",
       "      <td>1</td>\n",
       "      <td>37484133</td>\n",
       "      <td>NaN</td>\n",
       "      <td>2016-05-27 12:27:21</td>\n",
       "      <td>NaN</td>\n",
       "      <td>-1</td>\n",
       "      <td>45</td>\n",
       "      <td>&lt;p&gt;I have the following date forma string: &lt;co...</td>\n",
       "      <td>1935371</td>\n",
       "      <td>...</td>\n",
       "      <td>NaN</td>\n",
       "      <td>NaN</td>\n",
       "      <td>2016-05-27 13:03:45</td>\n",
       "      <td>Parsing Datetime in PHP</td>\n",
       "      <td>&lt;php&gt;&lt;datetime&gt;</td>\n",
       "      <td>3</td>\n",
       "      <td>4</td>\n",
       "      <td>NaN</td>\n",
       "      <td>NaN</td>\n",
       "      <td>NaN</td>\n",
       "    </tr>\n",
       "    <tr>\n",
       "      <th>4</th>\n",
       "      <td>37483593</td>\n",
       "      <td>1</td>\n",
       "      <td>37483920</td>\n",
       "      <td>NaN</td>\n",
       "      <td>2016-05-27 12:27:23</td>\n",
       "      <td>NaN</td>\n",
       "      <td>0</td>\n",
       "      <td>44</td>\n",
       "      <td>&lt;p&gt;I have a script that lists all the director...</td>\n",
       "      <td>3055536</td>\n",
       "      <td>...</td>\n",
       "      <td>NaN</td>\n",
       "      <td>NaN</td>\n",
       "      <td>2016-05-27 13:36:29</td>\n",
       "      <td>How to highlight current link in foreach loop</td>\n",
       "      <td>&lt;php&gt;&lt;html&gt;&lt;if-statement&gt;&lt;foreach&gt;</td>\n",
       "      <td>4</td>\n",
       "      <td>1</td>\n",
       "      <td>NaN</td>\n",
       "      <td>NaN</td>\n",
       "      <td>NaN</td>\n",
       "    </tr>\n",
       "  </tbody>\n",
       "</table>\n",
       "<p>5 rows × 22 columns</p>\n",
       "</div>"
      ],
      "text/plain": [
       "         Id  PostTypeId  AcceptedAnswerId  ParentId        CreationDate  \\\n",
       "0  37483588           2               NaN  37481604 2016-05-27 12:27:08   \n",
       "1  37483590           1               NaN       NaN 2016-05-27 12:27:12   \n",
       "2  37483591           2               NaN   3997152 2016-05-27 12:27:16   \n",
       "3  37483592           1          37484133       NaN 2016-05-27 12:27:21   \n",
       "4  37483593           1          37483920       NaN 2016-05-27 12:27:23   \n",
       "\n",
       "   DeletionDate  Score  ViewCount  \\\n",
       "0           NaN      0        NaN   \n",
       "1           NaN      3         41   \n",
       "2           NaN      0        NaN   \n",
       "3           NaN     -1         45   \n",
       "4           NaN      0         44   \n",
       "\n",
       "                                                Body  OwnerUserId  \\\n",
       "0  <p>ZF2 seems not to provide a solution for thi...      2019043   \n",
       "1  <p>I am trying to run migrations with custom D...       994154   \n",
       "2  <p>There is a better way to do this: \"Project ...          NaN   \n",
       "3  <p>I have the following date forma string: <co...      1935371   \n",
       "4  <p>I have a script that lists all the director...      3055536   \n",
       "\n",
       "          ...         LastEditorDisplayName         LastEditDate  \\\n",
       "0         ...                           NaN  2016-05-27 16:25:00   \n",
       "1         ...                           NaN  2016-05-27 17:37:51   \n",
       "2         ...                           NaN                  NaN   \n",
       "3         ...                           NaN                  NaN   \n",
       "4         ...                           NaN                  NaN   \n",
       "\n",
       "      LastActivityDate                                              Title  \\\n",
       "0  2016-05-27 16:25:00                                                NaN   \n",
       "1  2016-05-27 17:37:51  Provide an implementation of IDbContextFactory...   \n",
       "2  2016-05-27 12:27:16                                                NaN   \n",
       "3  2016-05-27 13:03:45                            Parsing Datetime in PHP   \n",
       "4  2016-05-27 13:36:29      How to highlight current link in foreach loop   \n",
       "\n",
       "                                    Tags AnswerCount CommentCount  \\\n",
       "0                                    NaN         NaN            0   \n",
       "1  <c#><entity-framework><ef-migrations>           1            2   \n",
       "2                                    NaN         NaN            0   \n",
       "3                        <php><datetime>           3            4   \n",
       "4     <php><html><if-statement><foreach>           4            1   \n",
       "\n",
       "   FavoriteCount  ClosedDate  CommunityOwnedDate  \n",
       "0            NaN         NaN                 NaN  \n",
       "1            NaN         NaN                 NaN  \n",
       "2            NaN         NaN                 NaN  \n",
       "3            NaN         NaN                 NaN  \n",
       "4            NaN         NaN                 NaN  \n",
       "\n",
       "[5 rows x 22 columns]"
      ]
     },
     "execution_count": 6,
     "metadata": {},
     "output_type": "execute_result"
    }
   ],
   "source": [
    "posts_df.head()"
   ]
  },
  {
   "cell_type": "markdown",
   "metadata": {},
   "source": [
    "## Elapsed time to get the first answer"
   ]
  },
  {
   "cell_type": "code",
   "execution_count": 7,
   "metadata": {
    "collapsed": false
   },
   "outputs": [
    {
     "data": {
      "text/plain": [
       "Index([u'Id', u'PostTypeId', u'AcceptedAnswerId', u'ParentId', u'CreationDate',\n",
       "       u'DeletionDate', u'Score', u'ViewCount', u'Body', u'OwnerUserId',\n",
       "       u'OwnerDisplayName', u'LastEditorUserId', u'LastEditorDisplayName',\n",
       "       u'LastEditDate', u'LastActivityDate', u'Title', u'Tags', u'AnswerCount',\n",
       "       u'CommentCount', u'FavoriteCount', u'ClosedDate',\n",
       "       u'CommunityOwnedDate'],\n",
       "      dtype='object')"
      ]
     },
     "execution_count": 7,
     "metadata": {},
     "output_type": "execute_result"
    }
   ],
   "source": [
    "posts_df.columns"
   ]
  },
  {
   "cell_type": "code",
   "execution_count": 8,
   "metadata": {
    "collapsed": false
   },
   "outputs": [
    {
     "data": {
      "text/html": [
       "<div>\n",
       "<table border=\"1\" class=\"dataframe\">\n",
       "  <thead>\n",
       "    <tr style=\"text-align: right;\">\n",
       "      <th></th>\n",
       "      <th>Id</th>\n",
       "      <th>PostTypeId</th>\n",
       "      <th>AcceptedAnswerId</th>\n",
       "      <th>ParentId</th>\n",
       "      <th>CreationDate</th>\n",
       "      <th>DeletionDate</th>\n",
       "      <th>Score</th>\n",
       "      <th>ViewCount</th>\n",
       "      <th>Body</th>\n",
       "      <th>OwnerUserId</th>\n",
       "      <th>...</th>\n",
       "      <th>LastEditorDisplayName</th>\n",
       "      <th>LastEditDate</th>\n",
       "      <th>LastActivityDate</th>\n",
       "      <th>Title</th>\n",
       "      <th>Tags</th>\n",
       "      <th>AnswerCount</th>\n",
       "      <th>CommentCount</th>\n",
       "      <th>FavoriteCount</th>\n",
       "      <th>ClosedDate</th>\n",
       "      <th>CommunityOwnedDate</th>\n",
       "    </tr>\n",
       "  </thead>\n",
       "  <tbody>\n",
       "    <tr>\n",
       "      <th>3</th>\n",
       "      <td>37483592</td>\n",
       "      <td>1</td>\n",
       "      <td>37484133</td>\n",
       "      <td>NaN</td>\n",
       "      <td>2016-05-27 12:27:21</td>\n",
       "      <td>NaN</td>\n",
       "      <td>-1</td>\n",
       "      <td>45</td>\n",
       "      <td>&lt;p&gt;I have the following date forma string: &lt;co...</td>\n",
       "      <td>1935371</td>\n",
       "      <td>...</td>\n",
       "      <td>NaN</td>\n",
       "      <td>NaN</td>\n",
       "      <td>2016-05-27 13:03:45</td>\n",
       "      <td>Parsing Datetime in PHP</td>\n",
       "      <td>&lt;php&gt;&lt;datetime&gt;</td>\n",
       "      <td>3</td>\n",
       "      <td>4</td>\n",
       "      <td>NaN</td>\n",
       "      <td>NaN</td>\n",
       "      <td>NaN</td>\n",
       "    </tr>\n",
       "    <tr>\n",
       "      <th>4</th>\n",
       "      <td>37483593</td>\n",
       "      <td>1</td>\n",
       "      <td>37483920</td>\n",
       "      <td>NaN</td>\n",
       "      <td>2016-05-27 12:27:23</td>\n",
       "      <td>NaN</td>\n",
       "      <td>0</td>\n",
       "      <td>44</td>\n",
       "      <td>&lt;p&gt;I have a script that lists all the director...</td>\n",
       "      <td>3055536</td>\n",
       "      <td>...</td>\n",
       "      <td>NaN</td>\n",
       "      <td>NaN</td>\n",
       "      <td>2016-05-27 13:36:29</td>\n",
       "      <td>How to highlight current link in foreach loop</td>\n",
       "      <td>&lt;php&gt;&lt;html&gt;&lt;if-statement&gt;&lt;foreach&gt;</td>\n",
       "      <td>4</td>\n",
       "      <td>1</td>\n",
       "      <td>NaN</td>\n",
       "      <td>NaN</td>\n",
       "      <td>NaN</td>\n",
       "    </tr>\n",
       "    <tr>\n",
       "      <th>5</th>\n",
       "      <td>37483594</td>\n",
       "      <td>1</td>\n",
       "      <td>37483679</td>\n",
       "      <td>NaN</td>\n",
       "      <td>2016-05-27 12:27:23</td>\n",
       "      <td>NaN</td>\n",
       "      <td>1</td>\n",
       "      <td>49</td>\n",
       "      <td>&lt;p&gt;I'll start off by saying i'm brand new to C...</td>\n",
       "      <td>6390902</td>\n",
       "      <td>...</td>\n",
       "      <td>NaN</td>\n",
       "      <td>NaN</td>\n",
       "      <td>2016-05-27 13:23:51</td>\n",
       "      <td>Gigantic numbers are being put into my array a...</td>\n",
       "      <td>&lt;c&gt;&lt;arrays&gt;</td>\n",
       "      <td>1</td>\n",
       "      <td>0</td>\n",
       "      <td>NaN</td>\n",
       "      <td>NaN</td>\n",
       "      <td>NaN</td>\n",
       "    </tr>\n",
       "    <tr>\n",
       "      <th>6</th>\n",
       "      <td>37483595</td>\n",
       "      <td>1</td>\n",
       "      <td>37484116</td>\n",
       "      <td>NaN</td>\n",
       "      <td>2016-05-27 12:27:23</td>\n",
       "      <td>NaN</td>\n",
       "      <td>1</td>\n",
       "      <td>24</td>\n",
       "      <td>&lt;p&gt;I have a JS single-page app that uses the h...</td>\n",
       "      <td>2420744</td>\n",
       "      <td>...</td>\n",
       "      <td>NaN</td>\n",
       "      <td>NaN</td>\n",
       "      <td>2016-05-27 12:55:00</td>\n",
       "      <td>How to detect if on the first url of page load?</td>\n",
       "      <td>&lt;javascript&gt;&lt;single-page-application&gt;&lt;browser-...</td>\n",
       "      <td>2</td>\n",
       "      <td>1</td>\n",
       "      <td>NaN</td>\n",
       "      <td>NaN</td>\n",
       "      <td>NaN</td>\n",
       "    </tr>\n",
       "    <tr>\n",
       "      <th>12</th>\n",
       "      <td>37483604</td>\n",
       "      <td>1</td>\n",
       "      <td>37484212</td>\n",
       "      <td>NaN</td>\n",
       "      <td>2016-05-27 12:27:42</td>\n",
       "      <td>NaN</td>\n",
       "      <td>0</td>\n",
       "      <td>26</td>\n",
       "      <td>&lt;p&gt;I have problem, after insert or update in m...</td>\n",
       "      <td>3501587</td>\n",
       "      <td>...</td>\n",
       "      <td>NaN</td>\n",
       "      <td>2016-05-27 13:06:32</td>\n",
       "      <td>2016-05-27 13:06:32</td>\n",
       "      <td>Symfony3 cache (Warning: rename) after update</td>\n",
       "      <td>&lt;php&gt;&lt;symfony2&gt;&lt;caching&gt;&lt;warnings&gt;&lt;symfony3&gt;</td>\n",
       "      <td>1</td>\n",
       "      <td>0</td>\n",
       "      <td>NaN</td>\n",
       "      <td>NaN</td>\n",
       "      <td>NaN</td>\n",
       "    </tr>\n",
       "  </tbody>\n",
       "</table>\n",
       "<p>5 rows × 22 columns</p>\n",
       "</div>"
      ],
      "text/plain": [
       "          Id  PostTypeId  AcceptedAnswerId  ParentId        CreationDate  \\\n",
       "3   37483592           1          37484133       NaN 2016-05-27 12:27:21   \n",
       "4   37483593           1          37483920       NaN 2016-05-27 12:27:23   \n",
       "5   37483594           1          37483679       NaN 2016-05-27 12:27:23   \n",
       "6   37483595           1          37484116       NaN 2016-05-27 12:27:23   \n",
       "12  37483604           1          37484212       NaN 2016-05-27 12:27:42   \n",
       "\n",
       "    DeletionDate  Score  ViewCount  \\\n",
       "3            NaN     -1         45   \n",
       "4            NaN      0         44   \n",
       "5            NaN      1         49   \n",
       "6            NaN      1         24   \n",
       "12           NaN      0         26   \n",
       "\n",
       "                                                 Body  OwnerUserId  \\\n",
       "3   <p>I have the following date forma string: <co...      1935371   \n",
       "4   <p>I have a script that lists all the director...      3055536   \n",
       "5   <p>I'll start off by saying i'm brand new to C...      6390902   \n",
       "6   <p>I have a JS single-page app that uses the h...      2420744   \n",
       "12  <p>I have problem, after insert or update in m...      3501587   \n",
       "\n",
       "           ...         LastEditorDisplayName         LastEditDate  \\\n",
       "3          ...                           NaN                  NaN   \n",
       "4          ...                           NaN                  NaN   \n",
       "5          ...                           NaN                  NaN   \n",
       "6          ...                           NaN                  NaN   \n",
       "12         ...                           NaN  2016-05-27 13:06:32   \n",
       "\n",
       "       LastActivityDate                                              Title  \\\n",
       "3   2016-05-27 13:03:45                            Parsing Datetime in PHP   \n",
       "4   2016-05-27 13:36:29      How to highlight current link in foreach loop   \n",
       "5   2016-05-27 13:23:51  Gigantic numbers are being put into my array a...   \n",
       "6   2016-05-27 12:55:00    How to detect if on the first url of page load?   \n",
       "12  2016-05-27 13:06:32      Symfony3 cache (Warning: rename) after update   \n",
       "\n",
       "                                                 Tags AnswerCount  \\\n",
       "3                                     <php><datetime>           3   \n",
       "4                  <php><html><if-statement><foreach>           4   \n",
       "5                                         <c><arrays>           1   \n",
       "6   <javascript><single-page-application><browser-...           2   \n",
       "12       <php><symfony2><caching><warnings><symfony3>           1   \n",
       "\n",
       "   CommentCount  FavoriteCount  ClosedDate  CommunityOwnedDate  \n",
       "3             4            NaN         NaN                 NaN  \n",
       "4             1            NaN         NaN                 NaN  \n",
       "5             0            NaN         NaN                 NaN  \n",
       "6             1            NaN         NaN                 NaN  \n",
       "12            0            NaN         NaN                 NaN  \n",
       "\n",
       "[5 rows x 22 columns]"
      ]
     },
     "execution_count": 8,
     "metadata": {},
     "output_type": "execute_result"
    }
   ],
   "source": [
    "posts_df[~posts_df.AcceptedAnswerId.isnull()].head()"
   ]
  },
  {
   "cell_type": "code",
   "execution_count": 9,
   "metadata": {
    "collapsed": false
   },
   "outputs": [
    {
     "data": {
      "text/html": [
       "<div>\n",
       "<table border=\"1\" class=\"dataframe\">\n",
       "  <thead>\n",
       "    <tr style=\"text-align: right;\">\n",
       "      <th></th>\n",
       "      <th>Id</th>\n",
       "      <th>PostTypeId</th>\n",
       "      <th>AcceptedAnswerId</th>\n",
       "      <th>ParentId</th>\n",
       "      <th>CreationDate</th>\n",
       "      <th>DeletionDate</th>\n",
       "      <th>Score</th>\n",
       "      <th>ViewCount</th>\n",
       "      <th>Body</th>\n",
       "      <th>OwnerUserId</th>\n",
       "      <th>...</th>\n",
       "      <th>LastEditorDisplayName</th>\n",
       "      <th>LastEditDate</th>\n",
       "      <th>LastActivityDate</th>\n",
       "      <th>Title</th>\n",
       "      <th>Tags</th>\n",
       "      <th>AnswerCount</th>\n",
       "      <th>CommentCount</th>\n",
       "      <th>FavoriteCount</th>\n",
       "      <th>ClosedDate</th>\n",
       "      <th>CommunityOwnedDate</th>\n",
       "    </tr>\n",
       "  </thead>\n",
       "  <tbody>\n",
       "    <tr>\n",
       "      <th>1441</th>\n",
       "      <td>37484133</td>\n",
       "      <td>2</td>\n",
       "      <td>NaN</td>\n",
       "      <td>37483592</td>\n",
       "      <td>2016-05-27 12:55:35</td>\n",
       "      <td>NaN</td>\n",
       "      <td>0</td>\n",
       "      <td>NaN</td>\n",
       "      <td>&lt;p&gt;Example:&lt;/p&gt;\\n\\n&lt;pre&gt;&lt;code&gt;$date = new Date...</td>\n",
       "      <td>6388036</td>\n",
       "      <td>...</td>\n",
       "      <td>NaN</td>\n",
       "      <td>2016-05-27 13:03:45</td>\n",
       "      <td>2016-05-27 13:03:45</td>\n",
       "      <td>NaN</td>\n",
       "      <td>NaN</td>\n",
       "      <td>NaN</td>\n",
       "      <td>2</td>\n",
       "      <td>NaN</td>\n",
       "      <td>NaN</td>\n",
       "      <td>NaN</td>\n",
       "    </tr>\n",
       "  </tbody>\n",
       "</table>\n",
       "<p>1 rows × 22 columns</p>\n",
       "</div>"
      ],
      "text/plain": [
       "            Id  PostTypeId  AcceptedAnswerId  ParentId        CreationDate  \\\n",
       "1441  37484133           2               NaN  37483592 2016-05-27 12:55:35   \n",
       "\n",
       "      DeletionDate  Score  ViewCount  \\\n",
       "1441           NaN      0        NaN   \n",
       "\n",
       "                                                   Body  OwnerUserId  \\\n",
       "1441  <p>Example:</p>\\n\\n<pre><code>$date = new Date...      6388036   \n",
       "\n",
       "             ...         LastEditorDisplayName         LastEditDate  \\\n",
       "1441         ...                           NaN  2016-05-27 13:03:45   \n",
       "\n",
       "         LastActivityDate Title Tags AnswerCount CommentCount  FavoriteCount  \\\n",
       "1441  2016-05-27 13:03:45   NaN  NaN         NaN            2            NaN   \n",
       "\n",
       "      ClosedDate  CommunityOwnedDate  \n",
       "1441         NaN                 NaN  \n",
       "\n",
       "[1 rows x 22 columns]"
      ]
     },
     "execution_count": 9,
     "metadata": {},
     "output_type": "execute_result"
    }
   ],
   "source": [
    "posts_df[posts_df.Id == 37484133]"
   ]
  },
  {
   "cell_type": "code",
   "execution_count": 10,
   "metadata": {
    "collapsed": false
   },
   "outputs": [],
   "source": [
    "asked_questions = posts_df[posts_df.ParentId.isnull()]"
   ]
  },
  {
   "cell_type": "code",
   "execution_count": 11,
   "metadata": {
    "collapsed": true
   },
   "outputs": [],
   "source": [
    "answers = posts_df[posts_df.ParentId.isin(asked_questions.Id)]"
   ]
  },
  {
   "cell_type": "code",
   "execution_count": 12,
   "metadata": {
    "collapsed": false
   },
   "outputs": [],
   "source": [
    "first_answers = answers.groupby('ParentId').apply(lambda g: g.sort_values('CreationDate').iloc[0])[['ParentId', 'CreationDate']]"
   ]
  },
  {
   "cell_type": "code",
   "execution_count": 13,
   "metadata": {
    "collapsed": false
   },
   "outputs": [
    {
     "data": {
      "text/html": [
       "<div>\n",
       "<table border=\"1\" class=\"dataframe\">\n",
       "  <thead>\n",
       "    <tr style=\"text-align: right;\">\n",
       "      <th></th>\n",
       "      <th>ParentId</th>\n",
       "      <th>CreationDate</th>\n",
       "    </tr>\n",
       "    <tr>\n",
       "      <th>ParentId</th>\n",
       "      <th></th>\n",
       "      <th></th>\n",
       "    </tr>\n",
       "  </thead>\n",
       "  <tbody>\n",
       "    <tr>\n",
       "      <th>37048478</th>\n",
       "      <td>37048478</td>\n",
       "      <td>2016-05-05 14:00:47</td>\n",
       "    </tr>\n",
       "    <tr>\n",
       "      <th>37048480</th>\n",
       "      <td>37048480</td>\n",
       "      <td>2016-05-05 10:48:15</td>\n",
       "    </tr>\n",
       "    <tr>\n",
       "      <th>37048489</th>\n",
       "      <td>37048489</td>\n",
       "      <td>2016-05-05 11:12:03</td>\n",
       "    </tr>\n",
       "    <tr>\n",
       "      <th>37048494</th>\n",
       "      <td>37048494</td>\n",
       "      <td>2016-05-05 11:04:44</td>\n",
       "    </tr>\n",
       "    <tr>\n",
       "      <th>37048497</th>\n",
       "      <td>37048497</td>\n",
       "      <td>2016-05-05 10:53:07</td>\n",
       "    </tr>\n",
       "  </tbody>\n",
       "</table>\n",
       "</div>"
      ],
      "text/plain": [
       "          ParentId        CreationDate\n",
       "ParentId                              \n",
       "37048478  37048478 2016-05-05 14:00:47\n",
       "37048480  37048480 2016-05-05 10:48:15\n",
       "37048489  37048489 2016-05-05 11:12:03\n",
       "37048494  37048494 2016-05-05 11:04:44\n",
       "37048497  37048497 2016-05-05 10:53:07"
      ]
     },
     "execution_count": 13,
     "metadata": {},
     "output_type": "execute_result"
    }
   ],
   "source": [
    "first_answers.head()"
   ]
  },
  {
   "cell_type": "code",
   "execution_count": 14,
   "metadata": {
    "collapsed": false
   },
   "outputs": [],
   "source": [
    "asked_and_answered = pd.merge(first_answers, asked_questions[['Id', 'CreationDate']], \n",
    "                              left_on='ParentId', right_on='Id')"
   ]
  },
  {
   "cell_type": "code",
   "execution_count": 15,
   "metadata": {
    "collapsed": false
   },
   "outputs": [
    {
     "data": {
      "text/html": [
       "<div>\n",
       "<table border=\"1\" class=\"dataframe\">\n",
       "  <thead>\n",
       "    <tr style=\"text-align: right;\">\n",
       "      <th></th>\n",
       "      <th>ParentId</th>\n",
       "      <th>CreationDate_x</th>\n",
       "      <th>Id</th>\n",
       "      <th>CreationDate_y</th>\n",
       "    </tr>\n",
       "  </thead>\n",
       "  <tbody>\n",
       "    <tr>\n",
       "      <th>0</th>\n",
       "      <td>37048478</td>\n",
       "      <td>2016-05-05 14:00:47</td>\n",
       "      <td>37048478</td>\n",
       "      <td>2016-05-05 10:42:42</td>\n",
       "    </tr>\n",
       "    <tr>\n",
       "      <th>1</th>\n",
       "      <td>37048480</td>\n",
       "      <td>2016-05-05 10:48:15</td>\n",
       "      <td>37048480</td>\n",
       "      <td>2016-05-05 10:42:43</td>\n",
       "    </tr>\n",
       "    <tr>\n",
       "      <th>2</th>\n",
       "      <td>37048489</td>\n",
       "      <td>2016-05-05 11:12:03</td>\n",
       "      <td>37048489</td>\n",
       "      <td>2016-05-05 10:43:15</td>\n",
       "    </tr>\n",
       "    <tr>\n",
       "      <th>3</th>\n",
       "      <td>37048494</td>\n",
       "      <td>2016-05-05 11:04:44</td>\n",
       "      <td>37048494</td>\n",
       "      <td>2016-05-05 10:43:19</td>\n",
       "    </tr>\n",
       "    <tr>\n",
       "      <th>4</th>\n",
       "      <td>37048497</td>\n",
       "      <td>2016-05-05 10:53:07</td>\n",
       "      <td>37048497</td>\n",
       "      <td>2016-05-05 10:43:23</td>\n",
       "    </tr>\n",
       "  </tbody>\n",
       "</table>\n",
       "</div>"
      ],
      "text/plain": [
       "   ParentId      CreationDate_x        Id      CreationDate_y\n",
       "0  37048478 2016-05-05 14:00:47  37048478 2016-05-05 10:42:42\n",
       "1  37048480 2016-05-05 10:48:15  37048480 2016-05-05 10:42:43\n",
       "2  37048489 2016-05-05 11:12:03  37048489 2016-05-05 10:43:15\n",
       "3  37048494 2016-05-05 11:04:44  37048494 2016-05-05 10:43:19\n",
       "4  37048497 2016-05-05 10:53:07  37048497 2016-05-05 10:43:23"
      ]
     },
     "execution_count": 15,
     "metadata": {},
     "output_type": "execute_result"
    }
   ],
   "source": [
    "asked_and_answered.head()"
   ]
  },
  {
   "cell_type": "code",
   "execution_count": 16,
   "metadata": {
    "collapsed": false
   },
   "outputs": [],
   "source": [
    "asked_and_answered['ElapsedTime'] = (asked_and_answered['CreationDate_x'] - \n",
    "                                      asked_and_answered['CreationDate_y']).astype('timedelta64[m]')"
   ]
  },
  {
   "cell_type": "code",
   "execution_count": 17,
   "metadata": {
    "collapsed": false
   },
   "outputs": [
    {
     "data": {
      "text/html": [
       "<div>\n",
       "<table border=\"1\" class=\"dataframe\">\n",
       "  <thead>\n",
       "    <tr style=\"text-align: right;\">\n",
       "      <th></th>\n",
       "      <th>ParentId</th>\n",
       "      <th>CreationDate_x</th>\n",
       "      <th>Id</th>\n",
       "      <th>CreationDate_y</th>\n",
       "      <th>ElapsedTime</th>\n",
       "    </tr>\n",
       "  </thead>\n",
       "  <tbody>\n",
       "    <tr>\n",
       "      <th>0</th>\n",
       "      <td>37048478</td>\n",
       "      <td>2016-05-05 14:00:47</td>\n",
       "      <td>37048478</td>\n",
       "      <td>2016-05-05 10:42:42</td>\n",
       "      <td>198</td>\n",
       "    </tr>\n",
       "    <tr>\n",
       "      <th>1</th>\n",
       "      <td>37048480</td>\n",
       "      <td>2016-05-05 10:48:15</td>\n",
       "      <td>37048480</td>\n",
       "      <td>2016-05-05 10:42:43</td>\n",
       "      <td>5</td>\n",
       "    </tr>\n",
       "    <tr>\n",
       "      <th>2</th>\n",
       "      <td>37048489</td>\n",
       "      <td>2016-05-05 11:12:03</td>\n",
       "      <td>37048489</td>\n",
       "      <td>2016-05-05 10:43:15</td>\n",
       "      <td>28</td>\n",
       "    </tr>\n",
       "    <tr>\n",
       "      <th>3</th>\n",
       "      <td>37048494</td>\n",
       "      <td>2016-05-05 11:04:44</td>\n",
       "      <td>37048494</td>\n",
       "      <td>2016-05-05 10:43:19</td>\n",
       "      <td>21</td>\n",
       "    </tr>\n",
       "    <tr>\n",
       "      <th>4</th>\n",
       "      <td>37048497</td>\n",
       "      <td>2016-05-05 10:53:07</td>\n",
       "      <td>37048497</td>\n",
       "      <td>2016-05-05 10:43:23</td>\n",
       "      <td>9</td>\n",
       "    </tr>\n",
       "  </tbody>\n",
       "</table>\n",
       "</div>"
      ],
      "text/plain": [
       "   ParentId      CreationDate_x        Id      CreationDate_y  ElapsedTime\n",
       "0  37048478 2016-05-05 14:00:47  37048478 2016-05-05 10:42:42          198\n",
       "1  37048480 2016-05-05 10:48:15  37048480 2016-05-05 10:42:43            5\n",
       "2  37048489 2016-05-05 11:12:03  37048489 2016-05-05 10:43:15           28\n",
       "3  37048494 2016-05-05 11:04:44  37048494 2016-05-05 10:43:19           21\n",
       "4  37048497 2016-05-05 10:53:07  37048497 2016-05-05 10:43:23            9"
      ]
     },
     "execution_count": 17,
     "metadata": {},
     "output_type": "execute_result"
    }
   ],
   "source": [
    "asked_and_answered.head()"
   ]
  },
  {
   "cell_type": "code",
   "execution_count": 18,
   "metadata": {
    "collapsed": false
   },
   "outputs": [
    {
     "data": {
      "text/plain": [
       "<matplotlib.text.Text at 0x116add910>"
      ]
     },
     "execution_count": 18,
     "metadata": {},
     "output_type": "execute_result"
    },
    {
     "data": {
      "image/png": "[encoded data removed]",
      "text/plain": [
       "<matplotlib.figure.Figure at 0x116f89210>"
      ]
     },
     "metadata": {
      "image/png": {
       "height": 571,
       "width": 803
      }
     },
     "output_type": "display_data"
    }
   ],
   "source": [
    "asked_and_answered[asked_and_answered.ElapsedTime < 100]['ElapsedTime'].hist()\n",
    "plt.xlabel('Elapsed Time within 100 min')"
   ]
  },
  {
   "cell_type": "markdown",
   "metadata": {},
   "source": [
    "## TODO: Elapsed time get the answer that will be accepted"
   ]
  },
  {
   "cell_type": "code",
   "execution_count": null,
   "metadata": {
    "collapsed": true
   },
   "outputs": [],
   "source": []
  }
 ],
 "metadata": {
  "kernelspec": {
   "display_name": "Python 2",
   "language": "python",
   "name": "python2"
  },
  "language_info": {
   "codemirror_mode": {
    "name": "ipython",
    "version": 2
   },
   "file_extension": ".py",
   "mimetype": "text/x-python",
   "name": "python",
   "nbconvert_exporter": "python",
   "pygments_lexer": "ipython2",
   "version": "2.7.11"
  }
 },
 "nbformat": 4,
 "nbformat_minor": 0
}

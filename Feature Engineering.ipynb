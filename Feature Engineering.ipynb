{
 "cells": [
  {
   "cell_type": "code",
   "execution_count": 1,
   "metadata": {
    "collapsed": false
   },
   "outputs": [
    {
     "name": "stderr",
     "output_type": "stream",
     "text": [
      "/home/ubuntu/anaconda2/lib/python2.7/site-packages/IPython/core/magics/extension.py:47: UserWarning: %install_ext` is deprecated, please distribute your extension as a python package.\n",
      "  \"as a python package.\", UserWarning)\n"
     ]
    },
    {
     "name": "stdout",
     "output_type": "stream",
     "text": [
      "Installed version_information.py. To use it, type:\n",
      "  %load_ext version_information\n"
     ]
    },
    {
     "data": {
      "application/json": {
       "Software versions": [
        {
         "module": "Python",
         "version": "2.7.11 64bit [GCC 4.4.7 20120313 (Red Hat 4.4.7-1)]"
        },
        {
         "module": "IPython",
         "version": "4.1.2"
        },
        {
         "module": "OS",
         "version": "Linux 3.13.0 74 generic x86_64 with debian jessie sid"
        },
        {
         "module": "numpy",
         "version": "1.10.4"
        },
        {
         "module": "scipy",
         "version": "0.17.0"
        },
        {
         "module": "matplotlib",
         "version": "1.5.1"
        },
        {
         "module": "pandas",
         "version": "0.18.0"
        }
       ]
      },
      "text/html": [
       "<table><tr><th>Software</th><th>Version</th></tr><tr><td>Python</td><td>2.7.11 64bit [GCC 4.4.7 20120313 (Red Hat 4.4.7-1)]</td></tr><tr><td>IPython</td><td>4.1.2</td></tr><tr><td>OS</td><td>Linux 3.13.0 74 generic x86_64 with debian jessie sid</td></tr><tr><td>numpy</td><td>1.10.4</td></tr><tr><td>scipy</td><td>0.17.0</td></tr><tr><td>matplotlib</td><td>1.5.1</td></tr><tr><td>pandas</td><td>0.18.0</td></tr><tr><td colspan='2'>Wed Jun 08 20:10:24 2016 UTC</td></tr></table>"
      ],
      "text/latex": [
       "\\begin{tabular}{|l|l|}\\hline\n",
       "{\\bf Software} & {\\bf Version} \\\\ \\hline\\hline\n",
       "Python & 2.7.11 64bit [GCC 4.4.7 20120313 (Red Hat 4.4.7-1)] \\\\ \\hline\n",
       "IPython & 4.1.2 \\\\ \\hline\n",
       "OS & Linux 3.13.0 74 generic x86\\_64 with debian jessie sid \\\\ \\hline\n",
       "numpy & 1.10.4 \\\\ \\hline\n",
       "scipy & 0.17.0 \\\\ \\hline\n",
       "matplotlib & 1.5.1 \\\\ \\hline\n",
       "pandas & 0.18.0 \\\\ \\hline\n",
       "\\hline \\multicolumn{2}{|l|}{Wed Jun 08 20:10:24 2016 UTC} \\\\ \\hline\n",
       "\\end{tabular}\n"
      ],
      "text/plain": [
       "Software versions\n",
       "Python 2.7.11 64bit [GCC 4.4.7 20120313 (Red Hat 4.4.7-1)]\n",
       "IPython 4.1.2\n",
       "OS Linux 3.13.0 74 generic x86_64 with debian jessie sid\n",
       "numpy 1.10.4\n",
       "scipy 0.17.0\n",
       "matplotlib 1.5.1\n",
       "pandas 0.18.0\n",
       "Wed Jun 08 20:10:24 2016 UTC"
      ]
     },
     "execution_count": 1,
     "metadata": {},
     "output_type": "execute_result"
    }
   ],
   "source": [
    "%install_ext http://raw.github.com/jrjohansson/version_information/master/version_information.py\n",
    "%load_ext version_information\n",
    "%reload_ext version_information\n",
    "%version_information numpy, scipy, matplotlib, pandas"
   ]
  },
  {
   "cell_type": "code",
   "execution_count": 2,
   "metadata": {
    "collapsed": false
   },
   "outputs": [],
   "source": [
    "# Couldn't find what to do with 'magic' imports at the top\n",
    "\n",
    "%load_ext autoreload\n",
    "%autoreload 2\n",
    "%matplotlib inline\n",
    "%config InlineBackend.figure_format='retina' \n",
    "\n",
    "# Add this to python2 code to make life easier\n",
    "from __future__ import absolute_import, division, print_function\n",
    "\n",
    "from itertools import combinations\n",
    "import string\n",
    "\n",
    "from IPython.display import IFrame, HTML, YouTubeVideo\n",
    "import matplotlib.pyplot as plt\n",
    "import numpy as np\n",
    "import pandas as pd\n",
    "import scipy as sp\n",
    "import seaborn as sns\n",
    "\n",
    "sns.set();\n",
    "plt.rcParams['figure.figsize'] = (12, 8)\n",
    "sns.set_style(\"darkgrid\")\n",
    "sns.set_context(\"poster\", font_scale=1.3)"
   ]
  },
  {
   "cell_type": "code",
   "execution_count": 3,
   "metadata": {
    "collapsed": true
   },
   "outputs": [],
   "source": [
    "# talk to postgresql\n",
    "from sqlalchemy import create_engine\n",
    "from sqlalchemy_utils import database_exists, create_database\n",
    "import psycopg2\n",
    "import pandas as pd"
   ]
  },
  {
   "cell_type": "code",
   "execution_count": 4,
   "metadata": {
    "collapsed": true
   },
   "outputs": [],
   "source": [
    "dbname = 'stackoverflow'\n",
    "username = 'jojo'\n",
    "pswd = 'iAmPass'\n",
    "\n",
    "con = None\n",
    "con = psycopg2.connect(database = dbname, user = username, host='localhost', password=pswd)"
   ]
  },
  {
   "cell_type": "markdown",
   "metadata": {},
   "source": [
    "# Posts\n",
    "\n",
    "- Id\n",
    "- PostTypeId (listed in the PostTypes table)\n",
    "  - Question (1)\n",
    "  - Answer (2)\n",
    "  - Orphaned tag wiki\n",
    "  - Tag wiki excerpt\n",
    "  - Tag wiki\n",
    "  - Moderator nomination\n",
    "  - \"Wiki placeholder\" (seems to only be the election description)\n",
    "  - Privilege wiki\n",
    "- AcceptedAnswerId (only present if PostTypeId is 1)\n",
    "- ParentID (only present if PostTypeId is 2)\n",
    "- CreationDate\n",
    "- DeletionDate (only non-null for the SEDE PostsWithDeleted table. Deleted posts are not present on Posts. Column not present on data dump.)\n",
    "- Score\n",
    "- ViewCount (nullable)\n",
    "- Body (as rendered HTML, not Markdown)\n",
    "- OwnerUserId (only present if user has not been deleted; always -1 for tag wiki entries, i.e. the community user owns them)\n",
    "- OwnerDisplayName (nullable)\n",
    "- LastEditorUserId (nullable)\n",
    "- LastEditorDisplayName (nullable)\n",
    "- LastEditDate=\"2009-03-05T22:28:34.823\" - the date and time of the most recent edit to the post (nullable)\n",
    "- LastActivityDate=\"2009-03-11T12:51:01.480\" - the date and time of the most recent activity on the post. For a question, this could be the post being edited, a new answer was posted, a bounty was started, etc.\n",
    "- Title (nullable)\n",
    "- Tags (nullable)\n",
    "- AnswerCount (nullable)\n",
    "- CommentCount\n",
    "- FavoriteCount\n",
    "- ClosedDate (present only if the post is closed)\n",
    "- CommunityOwnedDate (present only if post is community wikied)"
   ]
  },
  {
   "cell_type": "markdown",
   "metadata": {},
   "source": [
    "## Clean the Posts\n",
    "1. Remove the records that are neighther questions nor answers"
   ]
  },
  {
   "cell_type": "markdown",
   "metadata": {},
   "source": [
    "## Starting with subsection of the whole set"
   ]
  },
  {
   "cell_type": "code",
   "execution_count": 5,
   "metadata": {
    "collapsed": false
   },
   "outputs": [
    {
     "name": "stdout",
     "output_type": "stream",
     "text": [
      "Consider data after 2016-02-06\n"
     ]
    }
   ],
   "source": [
    "starting_date = '2016-02-06'\n",
    "print(\"Consider data after {}\".format(starting_date))"
   ]
  },
  {
   "cell_type": "code",
   "execution_count": 6,
   "metadata": {
    "collapsed": false
   },
   "outputs": [],
   "source": [
    "# query:\n",
    "sql_query = \"\"\"\n",
    "SELECT id, acceptedanswerid, creationdate, body, tags, title FROM posts \n",
    "where (posttypeid = 1) and creationdate > '{starting_date}'\n",
    ";\n",
    "\"\"\".format(starting_date=starting_date)\n",
    "questions = pd.read_sql_query(sql_query, con)"
   ]
  },
  {
   "cell_type": "code",
   "execution_count": 7,
   "metadata": {
    "collapsed": false
   },
   "outputs": [
    {
     "data": {
      "text/plain": [
       "(238685, 6)"
      ]
     },
     "execution_count": 7,
     "metadata": {},
     "output_type": "execute_result"
    }
   ],
   "source": [
    "questions.shape"
   ]
  },
  {
   "cell_type": "code",
   "execution_count": 8,
   "metadata": {
    "collapsed": false
   },
   "outputs": [
    {
     "data": {
      "text/html": [
       "<div>\n",
       "<table border=\"1\" class=\"dataframe\">\n",
       "  <thead>\n",
       "    <tr style=\"text-align: right;\">\n",
       "      <th></th>\n",
       "      <th>id</th>\n",
       "      <th>acceptedanswerid</th>\n",
       "      <th>creationdate</th>\n",
       "      <th>body</th>\n",
       "      <th>tags</th>\n",
       "      <th>title</th>\n",
       "    </tr>\n",
       "  </thead>\n",
       "  <tbody>\n",
       "    <tr>\n",
       "      <th>0</th>\n",
       "      <td>35235548</td>\n",
       "      <td>NaN</td>\n",
       "      <td>2016-02-06 00:00:06.423</td>\n",
       "      <td>&lt;p&gt;I wrote javascript codes to animate side me...</td>\n",
       "      <td>&lt;javascript&gt;&lt;jquery&gt;&lt;cookies&gt;&lt;execution&gt;&lt;clear...</td>\n",
       "      <td>how can I run $.cookie() after or before using...</td>\n",
       "    </tr>\n",
       "    <tr>\n",
       "      <th>1</th>\n",
       "      <td>35235551</td>\n",
       "      <td>35236820.0</td>\n",
       "      <td>2016-02-06 00:00:32.263</td>\n",
       "      <td>&lt;p&gt;I have a MEAN.js application, and I'm tryin...</td>\n",
       "      <td>&lt;angularjs&gt;&lt;express&gt;&lt;mean-stack&gt;&lt;meanjs&gt;</td>\n",
       "      <td>How to call an Express function from my Angula...</td>\n",
       "    </tr>\n",
       "    <tr>\n",
       "      <th>2</th>\n",
       "      <td>35235554</td>\n",
       "      <td>NaN</td>\n",
       "      <td>2016-02-06 00:00:48.947</td>\n",
       "      <td>&lt;p&gt;I have a small programm doing things with a...</td>\n",
       "      <td>&lt;vb.net&gt;&lt;powerpoint&gt;&lt;shape&gt;&lt;blinking&gt;</td>\n",
       "      <td>How to make a shape blinking while msgbox is d...</td>\n",
       "    </tr>\n",
       "    <tr>\n",
       "      <th>3</th>\n",
       "      <td>35235557</td>\n",
       "      <td>NaN</td>\n",
       "      <td>2016-02-06 00:01:00.097</td>\n",
       "      <td>&lt;p&gt;This is just part of the question. It has e...</td>\n",
       "      <td>&lt;python&gt;&lt;tuples&gt;</td>\n",
       "      <td>python take two integer arguments from a tuple</td>\n",
       "    </tr>\n",
       "    <tr>\n",
       "      <th>4</th>\n",
       "      <td>35235561</td>\n",
       "      <td>NaN</td>\n",
       "      <td>2016-02-06 00:01:34.097</td>\n",
       "      <td>&lt;p&gt;I am stuck trying to work this out.  I cann...</td>\n",
       "      <td>&lt;html&gt;&lt;css&gt;</td>\n",
       "      <td>Specify pixel density for responsive image</td>\n",
       "    </tr>\n",
       "  </tbody>\n",
       "</table>\n",
       "</div>"
      ],
      "text/plain": [
       "         id  acceptedanswerid            creationdate  \\\n",
       "0  35235548               NaN 2016-02-06 00:00:06.423   \n",
       "1  35235551        35236820.0 2016-02-06 00:00:32.263   \n",
       "2  35235554               NaN 2016-02-06 00:00:48.947   \n",
       "3  35235557               NaN 2016-02-06 00:01:00.097   \n",
       "4  35235561               NaN 2016-02-06 00:01:34.097   \n",
       "\n",
       "                                                body  \\\n",
       "0  <p>I wrote javascript codes to animate side me...   \n",
       "1  <p>I have a MEAN.js application, and I'm tryin...   \n",
       "2  <p>I have a small programm doing things with a...   \n",
       "3  <p>This is just part of the question. It has e...   \n",
       "4  <p>I am stuck trying to work this out.  I cann...   \n",
       "\n",
       "                                                tags  \\\n",
       "0  <javascript><jquery><cookies><execution><clear...   \n",
       "1           <angularjs><express><mean-stack><meanjs>   \n",
       "2              <vb.net><powerpoint><shape><blinking>   \n",
       "3                                   <python><tuples>   \n",
       "4                                        <html><css>   \n",
       "\n",
       "                                               title  \n",
       "0  how can I run $.cookie() after or before using...  \n",
       "1  How to call an Express function from my Angula...  \n",
       "2  How to make a shape blinking while msgbox is d...  \n",
       "3     python take two integer arguments from a tuple  \n",
       "4         Specify pixel density for responsive image  "
      ]
     },
     "execution_count": 8,
     "metadata": {},
     "output_type": "execute_result"
    }
   ],
   "source": [
    "questions.head()"
   ]
  },
  {
   "cell_type": "code",
   "execution_count": 9,
   "metadata": {
    "collapsed": false
   },
   "outputs": [
    {
     "name": "stdout",
     "output_type": "stream",
     "text": [
      "78027 out of 238685 questions get accepted answers\n"
     ]
    }
   ],
   "source": [
    "answered_q = questions[~questions.acceptedanswerid.isnull()]\n",
    "print(\"{} out of {} questions get accepted answers\".format(answered_q.shape[0], questions.shape[0]))"
   ]
  },
  {
   "cell_type": "code",
   "execution_count": 10,
   "metadata": {
    "collapsed": true
   },
   "outputs": [],
   "source": [
    "sql_query = \"\"\"\n",
    "SELECT id, creationdate, body FROM posts \n",
    "where (posttypeid = 2) and creationdate > '{starting_date}'\n",
    ";\n",
    "\"\"\".format(starting_date=starting_date)\n",
    "answers = pd.read_sql_query(sql_query, con)"
   ]
  },
  {
   "cell_type": "code",
   "execution_count": 11,
   "metadata": {
    "collapsed": false
   },
   "outputs": [
    {
     "data": {
      "text/html": [
       "<div>\n",
       "<table border=\"1\" class=\"dataframe\">\n",
       "  <thead>\n",
       "    <tr style=\"text-align: right;\">\n",
       "      <th></th>\n",
       "      <th>id</th>\n",
       "      <th>creationdate</th>\n",
       "      <th>body</th>\n",
       "    </tr>\n",
       "  </thead>\n",
       "  <tbody>\n",
       "    <tr>\n",
       "      <th>0</th>\n",
       "      <td>35235546</td>\n",
       "      <td>2016-02-06 00:00:04.940</td>\n",
       "      <td>&lt;p&gt;This is because &lt;code&gt;autofocus&lt;/code&gt; is &lt;...</td>\n",
       "    </tr>\n",
       "    <tr>\n",
       "      <th>1</th>\n",
       "      <td>35235547</td>\n",
       "      <td>2016-02-06 00:00:04.967</td>\n",
       "      <td>&lt;pre&gt;&lt;code&gt;int flt32_abs (int x) {\\n^^^       ...</td>\n",
       "    </tr>\n",
       "    <tr>\n",
       "      <th>2</th>\n",
       "      <td>35235549</td>\n",
       "      <td>2016-02-06 00:00:10.447</td>\n",
       "      <td>&lt;p&gt;The problem is the rewrite rule in your &lt;co...</td>\n",
       "    </tr>\n",
       "    <tr>\n",
       "      <th>3</th>\n",
       "      <td>35235550</td>\n",
       "      <td>2016-02-06 00:00:17.983</td>\n",
       "      <td>&lt;p&gt;Initially we have to redefine the &lt;code&gt;Sam...</td>\n",
       "    </tr>\n",
       "    <tr>\n",
       "      <th>4</th>\n",
       "      <td>35235553</td>\n",
       "      <td>2016-02-06 00:00:43.260</td>\n",
       "      <td>&lt;p&gt;Inside your class which derives from &lt;code&gt;...</td>\n",
       "    </tr>\n",
       "  </tbody>\n",
       "</table>\n",
       "</div>"
      ],
      "text/plain": [
       "         id            creationdate  \\\n",
       "0  35235546 2016-02-06 00:00:04.940   \n",
       "1  35235547 2016-02-06 00:00:04.967   \n",
       "2  35235549 2016-02-06 00:00:10.447   \n",
       "3  35235550 2016-02-06 00:00:17.983   \n",
       "4  35235553 2016-02-06 00:00:43.260   \n",
       "\n",
       "                                                body  \n",
       "0  <p>This is because <code>autofocus</code> is <...  \n",
       "1  <pre><code>int flt32_abs (int x) {\\n^^^       ...  \n",
       "2  <p>The problem is the rewrite rule in your <co...  \n",
       "3  <p>Initially we have to redefine the <code>Sam...  \n",
       "4  <p>Inside your class which derives from <code>...  "
      ]
     },
     "execution_count": 11,
     "metadata": {},
     "output_type": "execute_result"
    }
   ],
   "source": [
    "answers.head()"
   ]
  },
  {
   "cell_type": "code",
   "execution_count": 12,
   "metadata": {
    "collapsed": false
   },
   "outputs": [
    {
     "data": {
      "text/html": [
       "<div>\n",
       "<table border=\"1\" class=\"dataframe\">\n",
       "  <thead>\n",
       "    <tr style=\"text-align: right;\">\n",
       "      <th></th>\n",
       "      <th>id_x</th>\n",
       "      <th>acceptedanswerid</th>\n",
       "      <th>creationdate_x</th>\n",
       "      <th>body_x</th>\n",
       "      <th>tags</th>\n",
       "      <th>title</th>\n",
       "      <th>id_y</th>\n",
       "      <th>creationdate_y</th>\n",
       "      <th>body_y</th>\n",
       "      <th>ElapsedTime</th>\n",
       "    </tr>\n",
       "  </thead>\n",
       "  <tbody>\n",
       "    <tr>\n",
       "      <th>0</th>\n",
       "      <td>35235551</td>\n",
       "      <td>35236820.0</td>\n",
       "      <td>2016-02-06 00:00:32.263</td>\n",
       "      <td>&lt;p&gt;I have a MEAN.js application, and I'm tryin...</td>\n",
       "      <td>&lt;angularjs&gt;&lt;express&gt;&lt;mean-stack&gt;&lt;meanjs&gt;</td>\n",
       "      <td>How to call an Express function from my Angula...</td>\n",
       "      <td>35236820</td>\n",
       "      <td>2016-02-06 02:55:57.913</td>\n",
       "      <td>&lt;p&gt;Create a restful endpoint for your function...</td>\n",
       "      <td>175.0</td>\n",
       "    </tr>\n",
       "    <tr>\n",
       "      <th>1</th>\n",
       "      <td>35235565</td>\n",
       "      <td>35236493.0</td>\n",
       "      <td>2016-02-06 00:02:07.390</td>\n",
       "      <td>&lt;p&gt;Probably a novice question but I'm wonderin...</td>\n",
       "      <td>&lt;android&gt;&lt;android-logcat&gt;&lt;retrofit2&gt;&lt;okhttp3&gt;</td>\n",
       "      <td>Retrofit2 HttpLoggingInterceptor Logcat</td>\n",
       "      <td>35236493</td>\n",
       "      <td>2016-02-06 02:02:33.653</td>\n",
       "      <td>&lt;p&gt;I use so:&lt;/p&gt;\\n\\n&lt;pre&gt;&lt;code&gt;    // init okh...</td>\n",
       "      <td>120.0</td>\n",
       "    </tr>\n",
       "    <tr>\n",
       "      <th>2</th>\n",
       "      <td>35235569</td>\n",
       "      <td>35304897.0</td>\n",
       "      <td>2016-02-06 00:02:50.720</td>\n",
       "      <td>&lt;p&gt;I was upgrading my working django project t...</td>\n",
       "      <td>&lt;python&gt;&lt;django&gt;&lt;mongodb&gt;&lt;pymongo&gt;&lt;pymongo-3.x&gt;</td>\n",
       "      <td>Collection object is not callable error in PyM...</td>\n",
       "      <td>35304897</td>\n",
       "      <td>2016-02-10 00:36:10.997</td>\n",
       "      <td>&lt;p&gt;It looks like django-mongo-sessions has not...</td>\n",
       "      <td>5793.0</td>\n",
       "    </tr>\n",
       "    <tr>\n",
       "      <th>3</th>\n",
       "      <td>35235570</td>\n",
       "      <td>35235688.0</td>\n",
       "      <td>2016-02-06 00:02:52.590</td>\n",
       "      <td>&lt;p&gt;Hi guys there is a way to split a string li...</td>\n",
       "      <td>&lt;javascript&gt;&lt;jquery&gt;</td>\n",
       "      <td>Javascript: split key value (with space)</td>\n",
       "      <td>35235688</td>\n",
       "      <td>2016-02-06 00:17:17.183</td>\n",
       "      <td>&lt;p&gt;Assuming you can't have quotes inside the s...</td>\n",
       "      <td>14.0</td>\n",
       "    </tr>\n",
       "    <tr>\n",
       "      <th>4</th>\n",
       "      <td>35235576</td>\n",
       "      <td>35235610.0</td>\n",
       "      <td>2016-02-06 00:03:32.417</td>\n",
       "      <td>&lt;p&gt;when reading the book &lt;a href=\"https://gith...</td>\n",
       "      <td>&lt;javascript&gt;&lt;this&gt;</td>\n",
       "      <td>Javascript [this] keyword binding with new</td>\n",
       "      <td>35235610</td>\n",
       "      <td>2016-02-06 00:07:26.340</td>\n",
       "      <td>&lt;p&gt;Because any function can be a constructor. ...</td>\n",
       "      <td>3.0</td>\n",
       "    </tr>\n",
       "  </tbody>\n",
       "</table>\n",
       "</div>"
      ],
      "text/plain": [
       "       id_x  acceptedanswerid          creationdate_x  \\\n",
       "0  35235551        35236820.0 2016-02-06 00:00:32.263   \n",
       "1  35235565        35236493.0 2016-02-06 00:02:07.390   \n",
       "2  35235569        35304897.0 2016-02-06 00:02:50.720   \n",
       "3  35235570        35235688.0 2016-02-06 00:02:52.590   \n",
       "4  35235576        35235610.0 2016-02-06 00:03:32.417   \n",
       "\n",
       "                                              body_x  \\\n",
       "0  <p>I have a MEAN.js application, and I'm tryin...   \n",
       "1  <p>Probably a novice question but I'm wonderin...   \n",
       "2  <p>I was upgrading my working django project t...   \n",
       "3  <p>Hi guys there is a way to split a string li...   \n",
       "4  <p>when reading the book <a href=\"https://gith...   \n",
       "\n",
       "                                              tags  \\\n",
       "0         <angularjs><express><mean-stack><meanjs>   \n",
       "1    <android><android-logcat><retrofit2><okhttp3>   \n",
       "2  <python><django><mongodb><pymongo><pymongo-3.x>   \n",
       "3                             <javascript><jquery>   \n",
       "4                               <javascript><this>   \n",
       "\n",
       "                                               title      id_y  \\\n",
       "0  How to call an Express function from my Angula...  35236820   \n",
       "1            Retrofit2 HttpLoggingInterceptor Logcat  35236493   \n",
       "2  Collection object is not callable error in PyM...  35304897   \n",
       "3           Javascript: split key value (with space)  35235688   \n",
       "4         Javascript [this] keyword binding with new  35235610   \n",
       "\n",
       "           creationdate_y                                             body_y  \\\n",
       "0 2016-02-06 02:55:57.913  <p>Create a restful endpoint for your function...   \n",
       "1 2016-02-06 02:02:33.653  <p>I use so:</p>\\n\\n<pre><code>    // init okh...   \n",
       "2 2016-02-10 00:36:10.997  <p>It looks like django-mongo-sessions has not...   \n",
       "3 2016-02-06 00:17:17.183  <p>Assuming you can't have quotes inside the s...   \n",
       "4 2016-02-06 00:07:26.340  <p>Because any function can be a constructor. ...   \n",
       "\n",
       "   ElapsedTime  \n",
       "0        175.0  \n",
       "1        120.0  \n",
       "2       5793.0  \n",
       "3         14.0  \n",
       "4          3.0  "
      ]
     },
     "execution_count": 12,
     "metadata": {},
     "output_type": "execute_result"
    }
   ],
   "source": [
    "q_a = pd.merge(answered_q, answers, left_on='acceptedanswerid', right_on='id')\n",
    "q_a['ElapsedTime'] = (q_a.creationdate_y - q_a.creationdate_x).astype('timedelta64[m]')\n",
    "q_a.head()"
   ]
  },
  {
   "cell_type": "markdown",
   "metadata": {},
   "source": [
    "## TODO Predict whether a question will be answered"
   ]
  },
  {
   "cell_type": "markdown",
   "metadata": {},
   "source": [
    "## TODO Predict when an accepted will be posted"
   ]
  },
  {
   "cell_type": "markdown",
   "metadata": {},
   "source": [
    "# Votes\n",
    "- Id\n",
    "- PostId\n",
    "- VoteTypeId (listed in the VoteTypes table)\n",
    "  1. AcceptedByOriginator\n",
    "  2. UpMod (AKA upvote)\n",
    "  3. DownMod (AKA downvote)\n",
    "  4. Offensive\n",
    "  5. Favorite (UserId will also be populated)\n",
    "  6. Close (since 2013-06-25 close votes are ONLY stored in the PostHistory table)\n",
    "  7. Reopen\n",
    "  8. BountyStart (UserId and BountyAmount will also be populated)\n",
    "  9. BountyClose (BountyAmount will also be populated)\n",
    "  10. Deletion\n",
    "  11. Undeletion\n",
    "  12. Spam\n",
    "  15. ModeratorReview\n",
    "  16. ApproveEditSuggestion\n",
    "- UserId (only present if VoteTypeId is 5 or 8)\n",
    "- CreationDate (time data is purposefully removed to protect user privacy)\n",
    "- BountyAmount (only present if VoteTypeId is 8 or 9)"
   ]
  },
  {
   "cell_type": "code",
   "execution_count": 13,
   "metadata": {
    "collapsed": false
   },
   "outputs": [],
   "source": [
    "sql_query = \"\"\"\n",
    "SELECT * FROM votes limit 2;\n",
    "\"\"\"\n",
    "votes = pd.read_sql_query(sql_query, con)"
   ]
  },
  {
   "cell_type": "code",
   "execution_count": 14,
   "metadata": {
    "collapsed": false
   },
   "outputs": [
    {
     "data": {
      "text/html": [
       "<div>\n",
       "<table border=\"1\" class=\"dataframe\">\n",
       "  <thead>\n",
       "    <tr style=\"text-align: right;\">\n",
       "      <th></th>\n",
       "      <th>id</th>\n",
       "      <th>postid</th>\n",
       "      <th>votetypeid</th>\n",
       "      <th>userid</th>\n",
       "      <th>creationdate</th>\n",
       "      <th>bountyamount</th>\n",
       "    </tr>\n",
       "  </thead>\n",
       "  <tbody>\n",
       "    <tr>\n",
       "      <th>0</th>\n",
       "      <td>1</td>\n",
       "      <td>1</td>\n",
       "      <td>2</td>\n",
       "      <td>None</td>\n",
       "      <td>2008-07-31</td>\n",
       "      <td>None</td>\n",
       "    </tr>\n",
       "    <tr>\n",
       "      <th>1</th>\n",
       "      <td>2</td>\n",
       "      <td>3</td>\n",
       "      <td>2</td>\n",
       "      <td>None</td>\n",
       "      <td>2008-07-31</td>\n",
       "      <td>None</td>\n",
       "    </tr>\n",
       "  </tbody>\n",
       "</table>\n",
       "</div>"
      ],
      "text/plain": [
       "   id  postid  votetypeid userid creationdate bountyamount\n",
       "0   1       1           2   None   2008-07-31         None\n",
       "1   2       3           2   None   2008-07-31         None"
      ]
     },
     "execution_count": 14,
     "metadata": {},
     "output_type": "execute_result"
    }
   ],
   "source": [
    "votes"
   ]
  },
  {
   "cell_type": "markdown",
   "metadata": {},
   "source": [
    "# Users\n",
    "\n",
    "- Id\n",
    "- Reputation\n",
    "- CreationDate\n",
    "- DisplayName\n",
    "- LastAccessDate\n",
    "- WebsiteUrl\n",
    "- Location\n",
    "- AboutMe\n",
    "- Views\n",
    "- UpVotes (how many upvotes the user has cast)\n",
    "- DownVotes\n",
    "- EmailHash (now always blank)\n",
    "- AccountId (StackExchange Network profile Id of the user)\n",
    "- Age"
   ]
  },
  {
   "cell_type": "code",
   "execution_count": 15,
   "metadata": {
    "collapsed": true
   },
   "outputs": [],
   "source": [
    "sql_query = \"\"\"\n",
    "SELECT * FROM users limit 2;\n",
    "\"\"\"\n",
    "users= pd.read_sql_query(sql_query, con)"
   ]
  },
  {
   "cell_type": "code",
   "execution_count": 16,
   "metadata": {
    "collapsed": false
   },
   "outputs": [
    {
     "data": {
      "text/html": [
       "<div>\n",
       "<table border=\"1\" class=\"dataframe\">\n",
       "  <thead>\n",
       "    <tr style=\"text-align: right;\">\n",
       "      <th></th>\n",
       "      <th>id</th>\n",
       "      <th>reputation</th>\n",
       "      <th>creationdate</th>\n",
       "      <th>displayname</th>\n",
       "      <th>lastaccessdate</th>\n",
       "      <th>websiteurl</th>\n",
       "      <th>location</th>\n",
       "      <th>aboutme</th>\n",
       "      <th>views</th>\n",
       "      <th>upvotes</th>\n",
       "      <th>downvotes</th>\n",
       "      <th>profileimageurl</th>\n",
       "      <th>age</th>\n",
       "      <th>accountid</th>\n",
       "    </tr>\n",
       "  </thead>\n",
       "  <tbody>\n",
       "    <tr>\n",
       "      <th>0</th>\n",
       "      <td>-1</td>\n",
       "      <td>1</td>\n",
       "      <td>2008-07-31 00:00:00.000</td>\n",
       "      <td>Community</td>\n",
       "      <td>2008-08-26 00:16:53.810</td>\n",
       "      <td>http://meta.stackexchange.com/</td>\n",
       "      <td>on the server farm</td>\n",
       "      <td>&lt;p&gt;Hi, I'm not really a person.&lt;/p&gt;\\n\\n&lt;p&gt;I'm ...</td>\n",
       "      <td>649</td>\n",
       "      <td>143094</td>\n",
       "      <td>643540</td>\n",
       "      <td>None</td>\n",
       "      <td>NaN</td>\n",
       "      <td>-1</td>\n",
       "    </tr>\n",
       "    <tr>\n",
       "      <th>1</th>\n",
       "      <td>1</td>\n",
       "      <td>36925</td>\n",
       "      <td>2008-07-31 14:22:31.287</td>\n",
       "      <td>Jeff Atwood</td>\n",
       "      <td>2016-03-04 01:10:16.363</td>\n",
       "      <td>http://www.codinghorror.com/blog/</td>\n",
       "      <td>El Cerrito, CA</td>\n",
       "      <td>&lt;p&gt;&lt;a href=\"http://www.codinghorror.com/blog/a...</td>\n",
       "      <td>209166</td>\n",
       "      <td>3275</td>\n",
       "      <td>1300</td>\n",
       "      <td>https://www.gravatar.com/avatar/51d623f33f8b83...</td>\n",
       "      <td>46.0</td>\n",
       "      <td>1</td>\n",
       "    </tr>\n",
       "  </tbody>\n",
       "</table>\n",
       "</div>"
      ],
      "text/plain": [
       "   id  reputation            creationdate  displayname  \\\n",
       "0  -1           1 2008-07-31 00:00:00.000    Community   \n",
       "1   1       36925 2008-07-31 14:22:31.287  Jeff Atwood   \n",
       "\n",
       "           lastaccessdate                         websiteurl  \\\n",
       "0 2008-08-26 00:16:53.810     http://meta.stackexchange.com/   \n",
       "1 2016-03-04 01:10:16.363  http://www.codinghorror.com/blog/   \n",
       "\n",
       "             location                                            aboutme  \\\n",
       "0  on the server farm  <p>Hi, I'm not really a person.</p>\\n\\n<p>I'm ...   \n",
       "1      El Cerrito, CA  <p><a href=\"http://www.codinghorror.com/blog/a...   \n",
       "\n",
       "    views  upvotes  downvotes  \\\n",
       "0     649   143094     643540   \n",
       "1  209166     3275       1300   \n",
       "\n",
       "                                     profileimageurl   age  accountid  \n",
       "0                                               None   NaN         -1  \n",
       "1  https://www.gravatar.com/avatar/51d623f33f8b83...  46.0          1  "
      ]
     },
     "execution_count": 16,
     "metadata": {},
     "output_type": "execute_result"
    }
   ],
   "source": [
    "users"
   ]
  },
  {
   "cell_type": "markdown",
   "metadata": {},
   "source": [
    "## TODO Remove the user with id = -1"
   ]
  },
  {
   "cell_type": "markdown",
   "metadata": {},
   "source": [
    "# Tags\n",
    "- Id\n",
    "- TagName\n",
    "- Count\n",
    "- ExcerptPostId\n",
    "- WikiPostId"
   ]
  },
  {
   "cell_type": "code",
   "execution_count": 17,
   "metadata": {
    "collapsed": true
   },
   "outputs": [],
   "source": [
    "sql_query = \"\"\"\n",
    "SELECT * FROM tags limit 2;\n",
    "\"\"\"\n",
    "tags = pd.read_sql_query(sql_query, con)"
   ]
  },
  {
   "cell_type": "code",
   "execution_count": 18,
   "metadata": {
    "collapsed": false
   },
   "outputs": [
    {
     "data": {
      "text/html": [
       "<div>\n",
       "<table border=\"1\" class=\"dataframe\">\n",
       "  <thead>\n",
       "    <tr style=\"text-align: right;\">\n",
       "      <th></th>\n",
       "      <th>id</th>\n",
       "      <th>tagname</th>\n",
       "      <th>count</th>\n",
       "      <th>excerptpostid</th>\n",
       "      <th>wikipostid</th>\n",
       "    </tr>\n",
       "  </thead>\n",
       "  <tbody>\n",
       "    <tr>\n",
       "      <th>0</th>\n",
       "      <td>1</td>\n",
       "      <td>.net</td>\n",
       "      <td>227675</td>\n",
       "      <td>3624959</td>\n",
       "      <td>3607476</td>\n",
       "    </tr>\n",
       "    <tr>\n",
       "      <th>1</th>\n",
       "      <td>2</td>\n",
       "      <td>html</td>\n",
       "      <td>511091</td>\n",
       "      <td>3673183</td>\n",
       "      <td>3673182</td>\n",
       "    </tr>\n",
       "  </tbody>\n",
       "</table>\n",
       "</div>"
      ],
      "text/plain": [
       "   id tagname   count  excerptpostid  wikipostid\n",
       "0   1    .net  227675        3624959     3607476\n",
       "1   2    html  511091        3673183     3673182"
      ]
     },
     "execution_count": 18,
     "metadata": {},
     "output_type": "execute_result"
    }
   ],
   "source": [
    "tags"
   ]
  },
  {
   "cell_type": "markdown",
   "metadata": {},
   "source": [
    "# Badges\n",
    "- Id\n",
    "- UserId, e.g.: \"420\"\n",
    "- Name, e.g.: \"Teacher\"\n",
    "- Date, e.g.: \"2008-09-15T08:55:03.923\"\n",
    "- Class\n",
    "- Gold\n",
    "- Silver\n",
    "- Bronze\n",
    "- TagBased, true if badge is for a tag, otherwise it is a named badge"
   ]
  },
  {
   "cell_type": "code",
   "execution_count": 19,
   "metadata": {
    "collapsed": true
   },
   "outputs": [],
   "source": [
    "sql_query = \"\"\"\n",
    "SELECT * FROM badges limit 2;\n",
    "\"\"\"\n",
    "badges = pd.read_sql_query(sql_query, con)"
   ]
  },
  {
   "cell_type": "code",
   "execution_count": 20,
   "metadata": {
    "collapsed": false
   },
   "outputs": [
    {
     "data": {
      "text/html": [
       "<div>\n",
       "<table border=\"1\" class=\"dataframe\">\n",
       "  <thead>\n",
       "    <tr style=\"text-align: right;\">\n",
       "      <th></th>\n",
       "      <th>id</th>\n",
       "      <th>userid</th>\n",
       "      <th>name</th>\n",
       "      <th>date</th>\n",
       "    </tr>\n",
       "  </thead>\n",
       "  <tbody>\n",
       "    <tr>\n",
       "      <th>0</th>\n",
       "      <td>82946</td>\n",
       "      <td>3718</td>\n",
       "      <td>Teacher</td>\n",
       "      <td>2008-09-15 08:55:03.923</td>\n",
       "    </tr>\n",
       "    <tr>\n",
       "      <th>1</th>\n",
       "      <td>82947</td>\n",
       "      <td>994</td>\n",
       "      <td>Teacher</td>\n",
       "      <td>2008-09-15 08:55:03.957</td>\n",
       "    </tr>\n",
       "  </tbody>\n",
       "</table>\n",
       "</div>"
      ],
      "text/plain": [
       "      id  userid     name                    date\n",
       "0  82946    3718  Teacher 2008-09-15 08:55:03.923\n",
       "1  82947     994  Teacher 2008-09-15 08:55:03.957"
      ]
     },
     "execution_count": 20,
     "metadata": {},
     "output_type": "execute_result"
    }
   ],
   "source": [
    "badges"
   ]
  }
 ],
 "metadata": {
  "kernelspec": {
   "display_name": "Python 2",
   "language": "python",
   "name": "python2"
  },
  "language_info": {
   "codemirror_mode": {
    "name": "ipython",
    "version": 2
   },
   "file_extension": ".py",
   "mimetype": "text/x-python",
   "name": "python",
   "nbconvert_exporter": "python",
   "pygments_lexer": "ipython2",
   "version": "2.7.11"
  }
 },
 "nbformat": 4,
 "nbformat_minor": 0
}

{
 "cells": [
  {
   "cell_type": "code",
   "execution_count": 1,
   "metadata": {
    "collapsed": false
   },
   "outputs": [
    {
     "name": "stderr",
     "output_type": "stream",
     "text": [
      "/home/ubuntu/anaconda2/lib/python2.7/site-packages/IPython/core/magics/extension.py:47: UserWarning: %install_ext` is deprecated, please distribute your extension as a python package.\n",
      "  \"as a python package.\", UserWarning)\n"
     ]
    },
    {
     "name": "stdout",
     "output_type": "stream",
     "text": [
      "Installed version_information.py. To use it, type:\n",
      "  %load_ext version_information\n"
     ]
    },
    {
     "data": {
      "application/json": {
       "Software versions": [
        {
         "module": "Python",
         "version": "2.7.11 64bit [GCC 4.4.7 20120313 (Red Hat 4.4.7-1)]"
        },
        {
         "module": "IPython",
         "version": "4.1.2"
        },
        {
         "module": "OS",
         "version": "Linux 3.13.0 74 generic x86_64 with debian jessie sid"
        },
        {
         "module": "numpy",
         "version": "1.10.4"
        },
        {
         "module": "scipy",
         "version": "0.17.0"
        },
        {
         "module": "matplotlib",
         "version": "1.5.1"
        },
        {
         "module": "pandas",
         "version": "0.18.0"
        }
       ]
      },
      "text/html": [
       "<table><tr><th>Software</th><th>Version</th></tr><tr><td>Python</td><td>2.7.11 64bit [GCC 4.4.7 20120313 (Red Hat 4.4.7-1)]</td></tr><tr><td>IPython</td><td>4.1.2</td></tr><tr><td>OS</td><td>Linux 3.13.0 74 generic x86_64 with debian jessie sid</td></tr><tr><td>numpy</td><td>1.10.4</td></tr><tr><td>scipy</td><td>0.17.0</td></tr><tr><td>matplotlib</td><td>1.5.1</td></tr><tr><td>pandas</td><td>0.18.0</td></tr><tr><td colspan='2'>Wed Jun 08 02:39:33 2016 UTC</td></tr></table>"
      ],
      "text/latex": [
       "\\begin{tabular}{|l|l|}\\hline\n",
       "{\\bf Software} & {\\bf Version} \\\\ \\hline\\hline\n",
       "Python & 2.7.11 64bit [GCC 4.4.7 20120313 (Red Hat 4.4.7-1)] \\\\ \\hline\n",
       "IPython & 4.1.2 \\\\ \\hline\n",
       "OS & Linux 3.13.0 74 generic x86\\_64 with debian jessie sid \\\\ \\hline\n",
       "numpy & 1.10.4 \\\\ \\hline\n",
       "scipy & 0.17.0 \\\\ \\hline\n",
       "matplotlib & 1.5.1 \\\\ \\hline\n",
       "pandas & 0.18.0 \\\\ \\hline\n",
       "\\hline \\multicolumn{2}{|l|}{Wed Jun 08 02:39:33 2016 UTC} \\\\ \\hline\n",
       "\\end{tabular}\n"
      ],
      "text/plain": [
       "Software versions\n",
       "Python 2.7.11 64bit [GCC 4.4.7 20120313 (Red Hat 4.4.7-1)]\n",
       "IPython 4.1.2\n",
       "OS Linux 3.13.0 74 generic x86_64 with debian jessie sid\n",
       "numpy 1.10.4\n",
       "scipy 0.17.0\n",
       "matplotlib 1.5.1\n",
       "pandas 0.18.0\n",
       "Wed Jun 08 02:39:33 2016 UTC"
      ]
     },
     "execution_count": 1,
     "metadata": {},
     "output_type": "execute_result"
    }
   ],
   "source": [
    "%install_ext http://raw.github.com/jrjohansson/version_information/master/version_information.py\n",
    "%load_ext version_information\n",
    "%reload_ext version_information\n",
    "%version_information numpy, scipy, matplotlib, pandas"
   ]
  },
  {
   "cell_type": "code",
   "execution_count": 2,
   "metadata": {
    "collapsed": false
   },
   "outputs": [],
   "source": [
    "# Couldn't find what to do with 'magic' imports at the top\n",
    "\n",
    "%load_ext autoreload\n",
    "%autoreload 2\n",
    "%matplotlib inline\n",
    "%config InlineBackend.figure_format='retina' \n",
    "\n",
    "# Add this to python2 code to make life easier\n",
    "from __future__ import absolute_import, division, print_function\n",
    "\n",
    "from itertools import combinations\n",
    "import string\n",
    "\n",
    "from IPython.display import IFrame, HTML, YouTubeVideo\n",
    "import matplotlib.pyplot as plt\n",
    "import numpy as np\n",
    "import pandas as pd\n",
    "import scipy as sp\n",
    "import seaborn as sns\n",
    "\n",
    "sns.set();\n",
    "plt.rcParams['figure.figsize'] = (12, 8)\n",
    "sns.set_style(\"darkgrid\")\n",
    "sns.set_context(\"poster\", font_scale=1.3)"
   ]
  },
  {
   "cell_type": "code",
   "execution_count": 3,
   "metadata": {
    "collapsed": true
   },
   "outputs": [],
   "source": [
    "# talk to postgresql\n",
    "from sqlalchemy import create_engine\n",
    "from sqlalchemy_utils import database_exists, create_database\n",
    "import psycopg2\n",
    "import pandas as pd"
   ]
  },
  {
   "cell_type": "code",
   "execution_count": 4,
   "metadata": {
    "collapsed": true
   },
   "outputs": [],
   "source": [
    "dbname = 'stackoverflow'\n",
    "username = 'jojo'\n",
    "pswd = 'iAmPass'\n",
    "\n",
    "con = None\n",
    "con = psycopg2.connect(database = dbname, user = username, host='localhost', password=pswd)"
   ]
  },
  {
   "cell_type": "markdown",
   "metadata": {},
   "source": [
    "# Posts\n",
    "\n",
    "- Id\n",
    "- PostTypeId (listed in the PostTypes table)\n",
    "  - Question (1)\n",
    "  - Answer (2)\n",
    "  - Orphaned tag wiki\n",
    "  - Tag wiki excerpt\n",
    "  - Tag wiki\n",
    "  - Moderator nomination\n",
    "  - \"Wiki placeholder\" (seems to only be the election description)\n",
    "  - Privilege wiki\n",
    "- AcceptedAnswerId (only present if PostTypeId is 1)\n",
    "- ParentID (only present if PostTypeId is 2)\n",
    "- CreationDate\n",
    "- DeletionDate (only non-null for the SEDE PostsWithDeleted table. Deleted posts are not present on Posts. Column not present on data dump.)\n",
    "- Score\n",
    "- ViewCount (nullable)\n",
    "- Body (as rendered HTML, not Markdown)\n",
    "- OwnerUserId (only present if user has not been deleted; always -1 for tag wiki entries, i.e. the community user owns them)\n",
    "- OwnerDisplayName (nullable)\n",
    "- LastEditorUserId (nullable)\n",
    "- LastEditorDisplayName (nullable)\n",
    "- LastEditDate=\"2009-03-05T22:28:34.823\" - the date and time of the most recent edit to the post (nullable)\n",
    "- LastActivityDate=\"2009-03-11T12:51:01.480\" - the date and time of the most recent activity on the post. For a question, this could be the post being edited, a new answer was posted, a bounty was started, etc.\n",
    "- Title (nullable)\n",
    "- Tags (nullable)\n",
    "- AnswerCount (nullable)\n",
    "- CommentCount\n",
    "- FavoriteCount\n",
    "- ClosedDate (present only if the post is closed)\n",
    "- CommunityOwnedDate (present only if post is community wikied)"
   ]
  },
  {
   "cell_type": "markdown",
   "metadata": {},
   "source": [
    "## Clean the Posts\n",
    "1. Remove the records that are neight questions nor answers"
   ]
  },
  {
   "cell_type": "code",
   "execution_count": 5,
   "metadata": {
    "collapsed": false
   },
   "outputs": [],
   "source": [
    "# query:\n",
    "sql_query = \"\"\"\n",
    "SELECT * FROM posts \n",
    "where posttypeid = 1 or posttypeid = 2\n",
    "limit 4000;\n",
    "\"\"\"\n",
    "posts = pd.read_sql_query(sql_query, con)"
   ]
  },
  {
   "cell_type": "code",
   "execution_count": 6,
   "metadata": {
    "collapsed": false
   },
   "outputs": [
    {
     "data": {
      "text/html": [
       "<div>\n",
       "<table border=\"1\" class=\"dataframe\">\n",
       "  <thead>\n",
       "    <tr style=\"text-align: right;\">\n",
       "      <th></th>\n",
       "      <th>id</th>\n",
       "      <th>posttypeid</th>\n",
       "      <th>acceptedanswerid</th>\n",
       "      <th>parentid</th>\n",
       "      <th>creationdate</th>\n",
       "      <th>score</th>\n",
       "      <th>viewcount</th>\n",
       "      <th>body</th>\n",
       "      <th>owneruserid</th>\n",
       "      <th>lasteditoruserid</th>\n",
       "      <th>lasteditordisplayname</th>\n",
       "      <th>lasteditdate</th>\n",
       "      <th>lastactivitydate</th>\n",
       "      <th>title</th>\n",
       "      <th>tags</th>\n",
       "      <th>answercount</th>\n",
       "      <th>commentcount</th>\n",
       "      <th>favoritecount</th>\n",
       "      <th>closeddate</th>\n",
       "      <th>communityowneddate</th>\n",
       "    </tr>\n",
       "  </thead>\n",
       "  <tbody>\n",
       "    <tr>\n",
       "      <th>0</th>\n",
       "      <td>15691568</td>\n",
       "      <td>2</td>\n",
       "      <td>NaN</td>\n",
       "      <td>15691531.0</td>\n",
       "      <td>2013-03-28 20:30:23.450</td>\n",
       "      <td>3</td>\n",
       "      <td>NaN</td>\n",
       "      <td>&lt;p&gt;They're a backup copy, and can be very usef...</td>\n",
       "      <td>173292.0</td>\n",
       "      <td>NaN</td>\n",
       "      <td>None</td>\n",
       "      <td>None</td>\n",
       "      <td>2013-03-28 20:30:23.450</td>\n",
       "      <td>None</td>\n",
       "      <td>None</td>\n",
       "      <td>NaN</td>\n",
       "      <td>0</td>\n",
       "      <td>NaN</td>\n",
       "      <td>None</td>\n",
       "      <td>None</td>\n",
       "    </tr>\n",
       "    <tr>\n",
       "      <th>1</th>\n",
       "      <td>15691569</td>\n",
       "      <td>1</td>\n",
       "      <td>15694294.0</td>\n",
       "      <td>NaN</td>\n",
       "      <td>2013-03-28 20:30:24.960</td>\n",
       "      <td>1</td>\n",
       "      <td>3653.0</td>\n",
       "      <td>&lt;p&gt;I try to create a web page with a fixed nav...</td>\n",
       "      <td>1937219.0</td>\n",
       "      <td>NaN</td>\n",
       "      <td>None</td>\n",
       "      <td>None</td>\n",
       "      <td>2013-03-29 00:02:30.490</td>\n",
       "      <td>JavaScript issue with scrollTo() in Chrome</td>\n",
       "      <td>&lt;javascript&gt;&lt;google-chrome&gt;&lt;scrollto&gt;</td>\n",
       "      <td>1.0</td>\n",
       "      <td>1</td>\n",
       "      <td>NaN</td>\n",
       "      <td>None</td>\n",
       "      <td>None</td>\n",
       "    </tr>\n",
       "    <tr>\n",
       "      <th>2</th>\n",
       "      <td>15691570</td>\n",
       "      <td>2</td>\n",
       "      <td>NaN</td>\n",
       "      <td>15624275.0</td>\n",
       "      <td>2013-03-28 20:30:26.577</td>\n",
       "      <td>1</td>\n",
       "      <td>NaN</td>\n",
       "      <td>&lt;p&gt;If you are using the same Animation object ...</td>\n",
       "      <td>1234408.0</td>\n",
       "      <td>NaN</td>\n",
       "      <td>None</td>\n",
       "      <td>None</td>\n",
       "      <td>2013-03-28 20:30:26.577</td>\n",
       "      <td>None</td>\n",
       "      <td>None</td>\n",
       "      <td>NaN</td>\n",
       "      <td>1</td>\n",
       "      <td>NaN</td>\n",
       "      <td>None</td>\n",
       "      <td>None</td>\n",
       "    </tr>\n",
       "    <tr>\n",
       "      <th>3</th>\n",
       "      <td>15691571</td>\n",
       "      <td>2</td>\n",
       "      <td>NaN</td>\n",
       "      <td>709801.0</td>\n",
       "      <td>2013-03-28 20:30:27.107</td>\n",
       "      <td>0</td>\n",
       "      <td>NaN</td>\n",
       "      <td>&lt;p&gt;I like the example given by Active State us...</td>\n",
       "      <td>2055968.0</td>\n",
       "      <td>NaN</td>\n",
       "      <td>None</td>\n",
       "      <td>None</td>\n",
       "      <td>2013-03-28 20:30:27.107</td>\n",
       "      <td>None</td>\n",
       "      <td>None</td>\n",
       "      <td>NaN</td>\n",
       "      <td>0</td>\n",
       "      <td>NaN</td>\n",
       "      <td>None</td>\n",
       "      <td>None</td>\n",
       "    </tr>\n",
       "    <tr>\n",
       "      <th>4</th>\n",
       "      <td>15691572</td>\n",
       "      <td>1</td>\n",
       "      <td>15691753.0</td>\n",
       "      <td>NaN</td>\n",
       "      <td>2013-03-28 20:30:28.577</td>\n",
       "      <td>0</td>\n",
       "      <td>1647.0</td>\n",
       "      <td>&lt;p&gt;I have three files.  I want to compare colu...</td>\n",
       "      <td>2100945.0</td>\n",
       "      <td>2100945.0</td>\n",
       "      <td>None</td>\n",
       "      <td>2013-03-29 00:35:12.980000</td>\n",
       "      <td>2013-03-29 00:35:12.980</td>\n",
       "      <td>Compare values from two csv files, append valu...</td>\n",
       "      <td>&lt;python&gt;&lt;csv&gt;&lt;python-2.7&gt;</td>\n",
       "      <td>1.0</td>\n",
       "      <td>0</td>\n",
       "      <td>NaN</td>\n",
       "      <td>None</td>\n",
       "      <td>None</td>\n",
       "    </tr>\n",
       "  </tbody>\n",
       "</table>\n",
       "</div>"
      ],
      "text/plain": [
       "         id  posttypeid  acceptedanswerid    parentid            creationdate  \\\n",
       "0  15691568           2               NaN  15691531.0 2013-03-28 20:30:23.450   \n",
       "1  15691569           1        15694294.0         NaN 2013-03-28 20:30:24.960   \n",
       "2  15691570           2               NaN  15624275.0 2013-03-28 20:30:26.577   \n",
       "3  15691571           2               NaN    709801.0 2013-03-28 20:30:27.107   \n",
       "4  15691572           1        15691753.0         NaN 2013-03-28 20:30:28.577   \n",
       "\n",
       "   score  viewcount                                               body  \\\n",
       "0      3        NaN  <p>They're a backup copy, and can be very usef...   \n",
       "1      1     3653.0  <p>I try to create a web page with a fixed nav...   \n",
       "2      1        NaN  <p>If you are using the same Animation object ...   \n",
       "3      0        NaN  <p>I like the example given by Active State us...   \n",
       "4      0     1647.0  <p>I have three files.  I want to compare colu...   \n",
       "\n",
       "   owneruserid  lasteditoruserid lasteditordisplayname  \\\n",
       "0     173292.0               NaN                  None   \n",
       "1    1937219.0               NaN                  None   \n",
       "2    1234408.0               NaN                  None   \n",
       "3    2055968.0               NaN                  None   \n",
       "4    2100945.0         2100945.0                  None   \n",
       "\n",
       "                 lasteditdate        lastactivitydate  \\\n",
       "0                        None 2013-03-28 20:30:23.450   \n",
       "1                        None 2013-03-29 00:02:30.490   \n",
       "2                        None 2013-03-28 20:30:26.577   \n",
       "3                        None 2013-03-28 20:30:27.107   \n",
       "4  2013-03-29 00:35:12.980000 2013-03-29 00:35:12.980   \n",
       "\n",
       "                                               title  \\\n",
       "0                                               None   \n",
       "1         JavaScript issue with scrollTo() in Chrome   \n",
       "2                                               None   \n",
       "3                                               None   \n",
       "4  Compare values from two csv files, append valu...   \n",
       "\n",
       "                                    tags  answercount  commentcount  \\\n",
       "0                                   None          NaN             0   \n",
       "1  <javascript><google-chrome><scrollto>          1.0             1   \n",
       "2                                   None          NaN             1   \n",
       "3                                   None          NaN             0   \n",
       "4              <python><csv><python-2.7>          1.0             0   \n",
       "\n",
       "   favoritecount closeddate communityowneddate  \n",
       "0            NaN       None               None  \n",
       "1            NaN       None               None  \n",
       "2            NaN       None               None  \n",
       "3            NaN       None               None  \n",
       "4            NaN       None               None  "
      ]
     },
     "execution_count": 6,
     "metadata": {},
     "output_type": "execute_result"
    }
   ],
   "source": [
    "posts.head()"
   ]
  },
  {
   "cell_type": "markdown",
   "metadata": {},
   "source": [
    "# Votes\n",
    "- Id\n",
    "- PostId\n",
    "- VoteTypeId (listed in the VoteTypes table)\n",
    "  1. AcceptedByOriginator\n",
    "  2. UpMod (AKA upvote)\n",
    "  3. DownMod (AKA downvote)\n",
    "  4. Offensive\n",
    "  5. Favorite (UserId will also be populated)\n",
    "  6. Close (since 2013-06-25 close votes are ONLY stored in the PostHistory table)\n",
    "  7. Reopen\n",
    "  8. BountyStart (UserId and BountyAmount will also be populated)\n",
    "  9. BountyClose (BountyAmount will also be populated)\n",
    "  10. Deletion\n",
    "  11. Undeletion\n",
    "  12. Spam\n",
    "  15. ModeratorReview\n",
    "  16. ApproveEditSuggestion\n",
    "- UserId (only present if VoteTypeId is 5 or 8)\n",
    "- CreationDate (time data is purposefully removed to protect user privacy)\n",
    "- BountyAmount (only present if VoteTypeId is 8 or 9)"
   ]
  },
  {
   "cell_type": "code",
   "execution_count": 7,
   "metadata": {
    "collapsed": false
   },
   "outputs": [],
   "source": [
    "sql_query = \"\"\"\n",
    "SELECT * FROM votes limit 2;\n",
    "\"\"\"\n",
    "votes = pd.read_sql_query(sql_query, con)"
   ]
  },
  {
   "cell_type": "code",
   "execution_count": 8,
   "metadata": {
    "collapsed": false
   },
   "outputs": [
    {
     "data": {
      "text/html": [
       "<div>\n",
       "<table border=\"1\" class=\"dataframe\">\n",
       "  <thead>\n",
       "    <tr style=\"text-align: right;\">\n",
       "      <th></th>\n",
       "      <th>id</th>\n",
       "      <th>postid</th>\n",
       "      <th>votetypeid</th>\n",
       "      <th>userid</th>\n",
       "      <th>creationdate</th>\n",
       "      <th>bountyamount</th>\n",
       "    </tr>\n",
       "  </thead>\n",
       "  <tbody>\n",
       "    <tr>\n",
       "      <th>0</th>\n",
       "      <td>1</td>\n",
       "      <td>1</td>\n",
       "      <td>2</td>\n",
       "      <td>None</td>\n",
       "      <td>2008-07-31</td>\n",
       "      <td>None</td>\n",
       "    </tr>\n",
       "    <tr>\n",
       "      <th>1</th>\n",
       "      <td>2</td>\n",
       "      <td>3</td>\n",
       "      <td>2</td>\n",
       "      <td>None</td>\n",
       "      <td>2008-07-31</td>\n",
       "      <td>None</td>\n",
       "    </tr>\n",
       "  </tbody>\n",
       "</table>\n",
       "</div>"
      ],
      "text/plain": [
       "   id  postid  votetypeid userid creationdate bountyamount\n",
       "0   1       1           2   None   2008-07-31         None\n",
       "1   2       3           2   None   2008-07-31         None"
      ]
     },
     "execution_count": 8,
     "metadata": {},
     "output_type": "execute_result"
    }
   ],
   "source": [
    "votes"
   ]
  },
  {
   "cell_type": "markdown",
   "metadata": {},
   "source": [
    "# Users\n",
    "\n",
    "- Id\n",
    "- Reputation\n",
    "- CreationDate\n",
    "- DisplayName\n",
    "- LastAccessDate\n",
    "- WebsiteUrl\n",
    "- Location\n",
    "- AboutMe\n",
    "- Views\n",
    "- UpVotes (how many upvotes the user has cast)\n",
    "- DownVotes\n",
    "- EmailHash (now always blank)\n",
    "- AccountId (StackExchange Network profile Id of the user)\n",
    "- Age"
   ]
  },
  {
   "cell_type": "code",
   "execution_count": 9,
   "metadata": {
    "collapsed": true
   },
   "outputs": [],
   "source": [
    "sql_query = \"\"\"\n",
    "SELECT * FROM users limit 2;\n",
    "\"\"\"\n",
    "users= pd.read_sql_query(sql_query, con)"
   ]
  },
  {
   "cell_type": "code",
   "execution_count": 10,
   "metadata": {
    "collapsed": false
   },
   "outputs": [
    {
     "data": {
      "text/html": [
       "<div>\n",
       "<table border=\"1\" class=\"dataframe\">\n",
       "  <thead>\n",
       "    <tr style=\"text-align: right;\">\n",
       "      <th></th>\n",
       "      <th>id</th>\n",
       "      <th>reputation</th>\n",
       "      <th>creationdate</th>\n",
       "      <th>displayname</th>\n",
       "      <th>lastaccessdate</th>\n",
       "      <th>websiteurl</th>\n",
       "      <th>location</th>\n",
       "      <th>aboutme</th>\n",
       "      <th>views</th>\n",
       "      <th>upvotes</th>\n",
       "      <th>downvotes</th>\n",
       "      <th>profileimageurl</th>\n",
       "      <th>age</th>\n",
       "      <th>accountid</th>\n",
       "    </tr>\n",
       "  </thead>\n",
       "  <tbody>\n",
       "    <tr>\n",
       "      <th>0</th>\n",
       "      <td>-1</td>\n",
       "      <td>1</td>\n",
       "      <td>2008-07-31 00:00:00.000</td>\n",
       "      <td>Community</td>\n",
       "      <td>2008-08-26 00:16:53.810</td>\n",
       "      <td>http://meta.stackexchange.com/</td>\n",
       "      <td>on the server farm</td>\n",
       "      <td>&lt;p&gt;Hi, I'm not really a person.&lt;/p&gt;\\n\\n&lt;p&gt;I'm ...</td>\n",
       "      <td>649</td>\n",
       "      <td>143094</td>\n",
       "      <td>643540</td>\n",
       "      <td>None</td>\n",
       "      <td>NaN</td>\n",
       "      <td>-1</td>\n",
       "    </tr>\n",
       "    <tr>\n",
       "      <th>1</th>\n",
       "      <td>1</td>\n",
       "      <td>36925</td>\n",
       "      <td>2008-07-31 14:22:31.287</td>\n",
       "      <td>Jeff Atwood</td>\n",
       "      <td>2016-03-04 01:10:16.363</td>\n",
       "      <td>http://www.codinghorror.com/blog/</td>\n",
       "      <td>El Cerrito, CA</td>\n",
       "      <td>&lt;p&gt;&lt;a href=\"http://www.codinghorror.com/blog/a...</td>\n",
       "      <td>209166</td>\n",
       "      <td>3275</td>\n",
       "      <td>1300</td>\n",
       "      <td>https://www.gravatar.com/avatar/51d623f33f8b83...</td>\n",
       "      <td>46.0</td>\n",
       "      <td>1</td>\n",
       "    </tr>\n",
       "  </tbody>\n",
       "</table>\n",
       "</div>"
      ],
      "text/plain": [
       "   id  reputation            creationdate  displayname  \\\n",
       "0  -1           1 2008-07-31 00:00:00.000    Community   \n",
       "1   1       36925 2008-07-31 14:22:31.287  Jeff Atwood   \n",
       "\n",
       "           lastaccessdate                         websiteurl  \\\n",
       "0 2008-08-26 00:16:53.810     http://meta.stackexchange.com/   \n",
       "1 2016-03-04 01:10:16.363  http://www.codinghorror.com/blog/   \n",
       "\n",
       "             location                                            aboutme  \\\n",
       "0  on the server farm  <p>Hi, I'm not really a person.</p>\\n\\n<p>I'm ...   \n",
       "1      El Cerrito, CA  <p><a href=\"http://www.codinghorror.com/blog/a...   \n",
       "\n",
       "    views  upvotes  downvotes  \\\n",
       "0     649   143094     643540   \n",
       "1  209166     3275       1300   \n",
       "\n",
       "                                     profileimageurl   age  accountid  \n",
       "0                                               None   NaN         -1  \n",
       "1  https://www.gravatar.com/avatar/51d623f33f8b83...  46.0          1  "
      ]
     },
     "execution_count": 10,
     "metadata": {},
     "output_type": "execute_result"
    }
   ],
   "source": [
    "users"
   ]
  },
  {
   "cell_type": "markdown",
   "metadata": {},
   "source": [
    "## TODO Remove the user with id = -1"
   ]
  },
  {
   "cell_type": "markdown",
   "metadata": {},
   "source": [
    "# Tags\n",
    "- Id\n",
    "- TagName\n",
    "- Count\n",
    "- ExcerptPostId\n",
    "- WikiPostId"
   ]
  },
  {
   "cell_type": "code",
   "execution_count": 11,
   "metadata": {
    "collapsed": true
   },
   "outputs": [],
   "source": [
    "sql_query = \"\"\"\n",
    "SELECT * FROM tags limit 2;\n",
    "\"\"\"\n",
    "tags = pd.read_sql_query(sql_query, con)"
   ]
  },
  {
   "cell_type": "code",
   "execution_count": 12,
   "metadata": {
    "collapsed": false
   },
   "outputs": [
    {
     "data": {
      "text/html": [
       "<div>\n",
       "<table border=\"1\" class=\"dataframe\">\n",
       "  <thead>\n",
       "    <tr style=\"text-align: right;\">\n",
       "      <th></th>\n",
       "      <th>id</th>\n",
       "      <th>tagname</th>\n",
       "      <th>count</th>\n",
       "      <th>excerptpostid</th>\n",
       "      <th>wikipostid</th>\n",
       "    </tr>\n",
       "  </thead>\n",
       "  <tbody>\n",
       "    <tr>\n",
       "      <th>0</th>\n",
       "      <td>1</td>\n",
       "      <td>.net</td>\n",
       "      <td>227675</td>\n",
       "      <td>3624959</td>\n",
       "      <td>3607476</td>\n",
       "    </tr>\n",
       "    <tr>\n",
       "      <th>1</th>\n",
       "      <td>2</td>\n",
       "      <td>html</td>\n",
       "      <td>511091</td>\n",
       "      <td>3673183</td>\n",
       "      <td>3673182</td>\n",
       "    </tr>\n",
       "  </tbody>\n",
       "</table>\n",
       "</div>"
      ],
      "text/plain": [
       "   id tagname   count  excerptpostid  wikipostid\n",
       "0   1    .net  227675        3624959     3607476\n",
       "1   2    html  511091        3673183     3673182"
      ]
     },
     "execution_count": 12,
     "metadata": {},
     "output_type": "execute_result"
    }
   ],
   "source": [
    "tags"
   ]
  },
  {
   "cell_type": "markdown",
   "metadata": {},
   "source": [
    "# Badges\n",
    "- Id\n",
    "- UserId, e.g.: \"420\"\n",
    "- Name, e.g.: \"Teacher\"\n",
    "- Date, e.g.: \"2008-09-15T08:55:03.923\"\n",
    "- Class\n",
    "- Gold\n",
    "- Silver\n",
    "- Bronze\n",
    "- TagBased, true if badge is for a tag, otherwise it is a named badge"
   ]
  },
  {
   "cell_type": "code",
   "execution_count": 13,
   "metadata": {
    "collapsed": true
   },
   "outputs": [],
   "source": [
    "sql_query = \"\"\"\n",
    "SELECT * FROM badges limit 2;\n",
    "\"\"\"\n",
    "badges = pd.read_sql_query(sql_query, con)"
   ]
  },
  {
   "cell_type": "code",
   "execution_count": 14,
   "metadata": {
    "collapsed": false
   },
   "outputs": [
    {
     "data": {
      "text/html": [
       "<div>\n",
       "<table border=\"1\" class=\"dataframe\">\n",
       "  <thead>\n",
       "    <tr style=\"text-align: right;\">\n",
       "      <th></th>\n",
       "      <th>id</th>\n",
       "      <th>userid</th>\n",
       "      <th>name</th>\n",
       "      <th>date</th>\n",
       "    </tr>\n",
       "  </thead>\n",
       "  <tbody>\n",
       "    <tr>\n",
       "      <th>0</th>\n",
       "      <td>2714119</td>\n",
       "      <td>1150276</td>\n",
       "      <td>Student</td>\n",
       "      <td>2012-01-15 11:04:23.393</td>\n",
       "    </tr>\n",
       "    <tr>\n",
       "      <th>1</th>\n",
       "      <td>2714120</td>\n",
       "      <td>326874</td>\n",
       "      <td>Critic</td>\n",
       "      <td>2012-01-15 11:09:14.597</td>\n",
       "    </tr>\n",
       "  </tbody>\n",
       "</table>\n",
       "</div>"
      ],
      "text/plain": [
       "        id   userid     name                    date\n",
       "0  2714119  1150276  Student 2012-01-15 11:04:23.393\n",
       "1  2714120   326874   Critic 2012-01-15 11:09:14.597"
      ]
     },
     "execution_count": 14,
     "metadata": {},
     "output_type": "execute_result"
    }
   ],
   "source": [
    "badges"
   ]
  }
 ],
 "metadata": {
  "kernelspec": {
   "display_name": "Python 2",
   "language": "python",
   "name": "python2"
  },
  "language_info": {
   "codemirror_mode": {
    "name": "ipython",
    "version": 2
   },
   "file_extension": ".py",
   "mimetype": "text/x-python",
   "name": "python",
   "nbconvert_exporter": "python",
   "pygments_lexer": "ipython2",
   "version": "2.7.11"
  }
 },
 "nbformat": 4,
 "nbformat_minor": 0
}

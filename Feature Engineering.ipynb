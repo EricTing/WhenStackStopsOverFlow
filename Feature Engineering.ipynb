{
 "cells": [
  {
   "cell_type": "code",
   "execution_count": 37,
   "metadata": {
    "collapsed": false
   },
   "outputs": [
    {
     "name": "stdout",
     "output_type": "stream",
     "text": [
      "Installed version_information.py. To use it, type:\n",
      "  %load_ext version_information\n",
      "The version_information extension is already loaded. To reload it, use:\n",
      "  %reload_ext version_information\n"
     ]
    },
    {
     "data": {
      "application/json": {
       "Software versions": [
        {
         "module": "Python",
         "version": "2.7.11 64bit [GCC 4.4.7 20120313 (Red Hat 4.4.7-1)]"
        },
        {
         "module": "IPython",
         "version": "4.1.2"
        },
        {
         "module": "OS",
         "version": "Linux 3.13.0 74 generic x86_64 with debian jessie sid"
        },
        {
         "module": "numpy",
         "version": "1.10.4"
        },
        {
         "module": "scipy",
         "version": "0.17.0"
        },
        {
         "module": "matplotlib",
         "version": "1.5.1"
        },
        {
         "module": "pandas",
         "version": "0.18.0"
        }
       ]
      },
      "text/html": [
       "<table><tr><th>Software</th><th>Version</th></tr><tr><td>Python</td><td>2.7.11 64bit [GCC 4.4.7 20120313 (Red Hat 4.4.7-1)]</td></tr><tr><td>IPython</td><td>4.1.2</td></tr><tr><td>OS</td><td>Linux 3.13.0 74 generic x86_64 with debian jessie sid</td></tr><tr><td>numpy</td><td>1.10.4</td></tr><tr><td>scipy</td><td>0.17.0</td></tr><tr><td>matplotlib</td><td>1.5.1</td></tr><tr><td>pandas</td><td>0.18.0</td></tr><tr><td colspan='2'>Fri Jun 10 00:59:16 2016 UTC</td></tr></table>"
      ],
      "text/latex": [
       "\\begin{tabular}{|l|l|}\\hline\n",
       "{\\bf Software} & {\\bf Version} \\\\ \\hline\\hline\n",
       "Python & 2.7.11 64bit [GCC 4.4.7 20120313 (Red Hat 4.4.7-1)] \\\\ \\hline\n",
       "IPython & 4.1.2 \\\\ \\hline\n",
       "OS & Linux 3.13.0 74 generic x86\\_64 with debian jessie sid \\\\ \\hline\n",
       "numpy & 1.10.4 \\\\ \\hline\n",
       "scipy & 0.17.0 \\\\ \\hline\n",
       "matplotlib & 1.5.1 \\\\ \\hline\n",
       "pandas & 0.18.0 \\\\ \\hline\n",
       "\\hline \\multicolumn{2}{|l|}{Fri Jun 10 00:59:16 2016 UTC} \\\\ \\hline\n",
       "\\end{tabular}\n"
      ],
      "text/plain": [
       "Software versions\n",
       "Python 2.7.11 64bit [GCC 4.4.7 20120313 (Red Hat 4.4.7-1)]\n",
       "IPython 4.1.2\n",
       "OS Linux 3.13.0 74 generic x86_64 with debian jessie sid\n",
       "numpy 1.10.4\n",
       "scipy 0.17.0\n",
       "matplotlib 1.5.1\n",
       "pandas 0.18.0\n",
       "Fri Jun 10 00:59:16 2016 UTC"
      ]
     },
     "execution_count": 37,
     "metadata": {},
     "output_type": "execute_result"
    }
   ],
   "source": [
    "%install_ext http://raw.github.com/jrjohansson/version_information/master/version_information.py\n",
    "%load_ext version_information\n",
    "%reload_ext version_information\n",
    "%version_information numpy, scipy, matplotlib, pandas"
   ]
  },
  {
   "cell_type": "code",
   "execution_count": 38,
   "metadata": {
    "collapsed": false
   },
   "outputs": [
    {
     "name": "stdout",
     "output_type": "stream",
     "text": [
      "The autoreload extension is already loaded. To reload it, use:\n",
      "  %reload_ext autoreload\n"
     ]
    },
    {
     "name": "stderr",
     "output_type": "stream",
     "text": [
      "[autoreload of version_information failed: Traceback (most recent call last):\n",
      "  File \"/home/ubuntu/anaconda2/lib/python2.7/site-packages/IPython/extensions/autoreload.py\", line 247, in check\n",
      "    superreload(m, reload, self.old_objects)\n",
      "ImportError: No module named version_information\n",
      "]\n"
     ]
    }
   ],
   "source": [
    "# Couldn't find what to do with 'magic' imports at the top\n",
    "\n",
    "%load_ext autoreload\n",
    "%autoreload 2\n",
    "%matplotlib inline\n",
    "%config InlineBackend.figure_format='retina' \n",
    "\n",
    "# Add this to python2 code to make life easier\n",
    "from __future__ import absolute_import, division, print_function\n",
    "\n",
    "from itertools import combinations\n",
    "import string\n",
    "\n",
    "from IPython.display import IFrame, HTML, YouTubeVideo\n",
    "import matplotlib.pyplot as plt\n",
    "import numpy as np\n",
    "import pandas as pd\n",
    "import scipy as sp\n",
    "import seaborn as sns\n",
    "\n",
    "sns.set();\n",
    "plt.rcParams['figure.figsize'] = (12, 8)\n",
    "sns.set_style(\"darkgrid\")\n",
    "sns.set_context(\"poster\", font_scale=1.3)"
   ]
  },
  {
   "cell_type": "code",
   "execution_count": 39,
   "metadata": {
    "collapsed": true
   },
   "outputs": [],
   "source": [
    "from sklearn.naive_bayes import GaussianNB\n",
    "from sklearn import metrics\n",
    "from sklearn.feature_extraction.text import TfidfVectorizer\n",
    "from sklearn.pipeline import Pipeline\n",
    "from sklearn.metrics import classification_report\n",
    "from sklearn.linear_model import LogisticRegression\n",
    "from nltk import word_tokenize\n",
    "from nltk.stem import PorterStemmer, WordNetLemmatizer\n",
    "from sklearn.ensemble import RandomForestClassifier\n",
    "from sklearn.externals import joblib"
   ]
  },
  {
   "cell_type": "code",
   "execution_count": 40,
   "metadata": {
    "collapsed": false
   },
   "outputs": [],
   "source": [
    "from feature_union import feature_union, DenseTransformer"
   ]
  },
  {
   "cell_type": "code",
   "execution_count": 41,
   "metadata": {
    "collapsed": true
   },
   "outputs": [],
   "source": [
    "# talk to postgresql\n",
    "from sqlalchemy import create_engine\n",
    "from sqlalchemy_utils import database_exists, create_database\n",
    "import psycopg2\n",
    "import pandas as pd"
   ]
  },
  {
   "cell_type": "code",
   "execution_count": 42,
   "metadata": {
    "collapsed": false
   },
   "outputs": [
    {
     "data": {
      "text/plain": [
       "(1535, 9)"
      ]
     },
     "execution_count": 42,
     "metadata": {},
     "output_type": "execute_result"
    }
   ],
   "source": [
    "qa = pd.read_pickle(\"./extracted.2016-03-06.pkl\")\n",
    "qa.shape"
   ]
  },
  {
   "cell_type": "code",
   "execution_count": 43,
   "metadata": {
    "collapsed": false
   },
   "outputs": [
    {
     "data": {
      "text/plain": [
       "2    805\n",
       "1    730\n",
       "Name: posttypeid, dtype: int64"
      ]
     },
     "execution_count": 43,
     "metadata": {},
     "output_type": "execute_result"
    }
   ],
   "source": [
    "qa.posttypeid.value_counts()"
   ]
  },
  {
   "cell_type": "code",
   "execution_count": 44,
   "metadata": {
    "collapsed": false
   },
   "outputs": [
    {
     "data": {
      "text/html": [
       "<div>\n",
       "<table border=\"1\" class=\"dataframe\">\n",
       "  <thead>\n",
       "    <tr style=\"text-align: right;\">\n",
       "      <th></th>\n",
       "      <th>title</th>\n",
       "      <th>paragraphs</th>\n",
       "      <th>id</th>\n",
       "      <th>posttypeid</th>\n",
       "      <th>acceptedanswerid</th>\n",
       "      <th>creationdate</th>\n",
       "      <th>tags</th>\n",
       "      <th>parentid</th>\n",
       "      <th>codes</th>\n",
       "    </tr>\n",
       "  </thead>\n",
       "  <tbody>\n",
       "    <tr>\n",
       "      <th>0</th>\n",
       "      <td>using javascript to change text on a window re...</td>\n",
       "      <td>the problem at the moment is that when the win...</td>\n",
       "      <td>35821438</td>\n",
       "      <td>1</td>\n",
       "      <td>NaN</td>\n",
       "      <td>2016-03-06 00:00:05.190</td>\n",
       "      <td>javascript  jquery  html</td>\n",
       "      <td>NaN</td>\n",
       "      <td>var myspan = document.getElementById('players-...</td>\n",
       "    </tr>\n",
       "  </tbody>\n",
       "</table>\n",
       "</div>"
      ],
      "text/plain": [
       "                                               title  \\\n",
       "0  using javascript to change text on a window re...   \n",
       "\n",
       "                                          paragraphs        id posttypeid  \\\n",
       "0  the problem at the moment is that when the win...  35821438          1   \n",
       "\n",
       "  acceptedanswerid            creationdate                        tags  \\\n",
       "0              NaN 2016-03-06 00:00:05.190   javascript  jquery  html    \n",
       "\n",
       "  parentid                                              codes  \n",
       "0      NaN  var myspan = document.getElementById('players-...  "
      ]
     },
     "execution_count": 44,
     "metadata": {},
     "output_type": "execute_result"
    }
   ],
   "source": [
    "qa.head(1)"
   ]
  },
  {
   "cell_type": "markdown",
   "metadata": {},
   "source": [
    "# Posts\n",
    "\n",
    "- Id\n",
    "- PostTypeId (listed in the PostTypes table)\n",
    "  - Question (1)\n",
    "  - Answer (2)\n",
    "  - Orphaned tag wiki\n",
    "  - Tag wiki excerpt\n",
    "  - Tag wiki\n",
    "  - Moderator nomination\n",
    "  - \"Wiki placeholder\" (seems to only be the election description)\n",
    "  - Privilege wiki\n",
    "- AcceptedAnswerId (only present if PostTypeId is 1)\n",
    "- ParentID (only present if PostTypeId is 2)\n",
    "- CreationDate\n",
    "- DeletionDate (only non-null for the SEDE PostsWithDeleted table. Deleted posts are not present on Posts. Column not present on data dump.)\n",
    "- Score\n",
    "- ViewCount (nullable)\n",
    "- Body (as rendered HTML, not Markdown)\n",
    "- OwnerUserId (only present if user has not been deleted; always -1 for tag wiki entries, i.e. the community user owns them)\n",
    "- OwnerDisplayName (nullable)\n",
    "- LastEditorUserId (nullable)\n",
    "- LastEditorDisplayName (nullable)\n",
    "- LastEditDate=\"2009-03-05T22:28:34.823\" - the date and time of the most recent edit to the post (nullable)\n",
    "- LastActivityDate=\"2009-03-11T12:51:01.480\" - the date and time of the most recent activity on the post. For a question, this could be the post being edited, a new answer was posted, a bounty was started, etc.\n",
    "- Title (nullable)\n",
    "- Tags (nullable)\n",
    "- AnswerCount (nullable)\n",
    "- CommentCount\n",
    "- FavoriteCount\n",
    "- ClosedDate (present only if the post is closed)\n",
    "- CommunityOwnedDate (present only if post is community wikied)"
   ]
  },
  {
   "cell_type": "code",
   "execution_count": 45,
   "metadata": {
    "collapsed": false
   },
   "outputs": [
    {
     "data": {
      "text/plain": [
       "(730,)"
      ]
     },
     "execution_count": 45,
     "metadata": {},
     "output_type": "execute_result"
    }
   ],
   "source": [
    "questions_ids = qa[qa['posttypeid'] == 1]['id']\n",
    "questions_ids.shape"
   ]
  },
  {
   "cell_type": "code",
   "execution_count": 46,
   "metadata": {
    "collapsed": true
   },
   "outputs": [],
   "source": [
    "answers = qa[qa.posttypeid == 2]"
   ]
  },
  {
   "cell_type": "code",
   "execution_count": 47,
   "metadata": {
    "collapsed": false
   },
   "outputs": [
    {
     "data": {
      "text/html": [
       "<div>\n",
       "<table border=\"1\" class=\"dataframe\">\n",
       "  <thead>\n",
       "    <tr style=\"text-align: right;\">\n",
       "      <th></th>\n",
       "      <th>title</th>\n",
       "      <th>paragraphs</th>\n",
       "      <th>id</th>\n",
       "      <th>posttypeid</th>\n",
       "      <th>acceptedanswerid</th>\n",
       "      <th>creationdate</th>\n",
       "      <th>tags</th>\n",
       "      <th>parentid</th>\n",
       "      <th>codes</th>\n",
       "    </tr>\n",
       "  </thead>\n",
       "  <tbody>\n",
       "    <tr>\n",
       "      <th>2</th>\n",
       "      <td>None</td>\n",
       "      <td>IN ( '&gt;= 03/04/2016', '') does not retrieve a ...</td>\n",
       "      <td>35821440</td>\n",
       "      <td>2</td>\n",
       "      <td>NaN</td>\n",
       "      <td>2016-03-06 00:00:32.833</td>\n",
       "      <td>None</td>\n",
       "      <td>3.58088e+07</td>\n",
       "      <td>None</td>\n",
       "    </tr>\n",
       "  </tbody>\n",
       "</table>\n",
       "</div>"
      ],
      "text/plain": [
       "  title                                         paragraphs        id  \\\n",
       "2  None  IN ( '>= 03/04/2016', '') does not retrieve a ...  35821440   \n",
       "\n",
       "  posttypeid acceptedanswerid            creationdate  tags     parentid codes  \n",
       "2          2              NaN 2016-03-06 00:00:32.833  None  3.58088e+07  None  "
      ]
     },
     "execution_count": 47,
     "metadata": {},
     "output_type": "execute_result"
    }
   ],
   "source": [
    "answers.head(1)"
   ]
  },
  {
   "cell_type": "code",
   "execution_count": 48,
   "metadata": {
    "collapsed": false
   },
   "outputs": [],
   "source": [
    "questions_answered_ids = questions_ids[questions_ids.isin(answers.parentid)]"
   ]
  },
  {
   "cell_type": "code",
   "execution_count": 49,
   "metadata": {
    "collapsed": true
   },
   "outputs": [],
   "source": [
    "questions_unanswered_ids = questions_ids[~questions_ids.isin(answers.parentid)]"
   ]
  },
  {
   "cell_type": "markdown",
   "metadata": {},
   "source": [
    "## Classify whether a question shall be answered within 1 week"
   ]
  },
  {
   "cell_type": "code",
   "execution_count": 50,
   "metadata": {
    "collapsed": true
   },
   "outputs": [],
   "source": [
    "questions = qa[qa['id'].isin(questions_ids)]"
   ]
  },
  {
   "cell_type": "code",
   "execution_count": 51,
   "metadata": {
    "collapsed": true
   },
   "outputs": [],
   "source": [
    "answered_q = questions[questions['id'].isin(questions_answered_ids)]"
   ]
  },
  {
   "cell_type": "code",
   "execution_count": 52,
   "metadata": {
    "collapsed": false
   },
   "outputs": [],
   "source": [
    "q_a = pd.merge(answered_q, answers, left_on='id', right_on='parentid')"
   ]
  },
  {
   "cell_type": "code",
   "execution_count": 53,
   "metadata": {
    "collapsed": true
   },
   "outputs": [],
   "source": [
    "q_a['ElapsedTime'] = (q_a.creationdate_y - q_a.creationdate_x).astype('timedelta64[m]')"
   ]
  },
  {
   "cell_type": "code",
   "execution_count": 54,
   "metadata": {
    "collapsed": false
   },
   "outputs": [],
   "source": [
    "shortest_elapsed_time = q_a.groupby('id_x').apply(lambda g: g['ElapsedTime'].min())"
   ]
  },
  {
   "cell_type": "code",
   "execution_count": 55,
   "metadata": {
    "collapsed": false
   },
   "outputs": [
    {
     "name": "stdout",
     "output_type": "stream",
     "text": [
      "One week = 10080 min\n"
     ]
    }
   ],
   "source": [
    "print(\"One week = {} min\".format(24 * 60 * 7))"
   ]
  },
  {
   "cell_type": "code",
   "execution_count": 56,
   "metadata": {
    "collapsed": false
   },
   "outputs": [],
   "source": [
    "questions_answered_late_ids = shortest_elapsed_time[shortest_elapsed_time > 10080].index"
   ]
  },
  {
   "cell_type": "code",
   "execution_count": 57,
   "metadata": {
    "collapsed": false
   },
   "outputs": [],
   "source": [
    "failed_questions_ids = np.concatenate((questions_unanswered_ids.values, questions_answered_late_ids))"
   ]
  },
  {
   "cell_type": "code",
   "execution_count": 58,
   "metadata": {
    "collapsed": false
   },
   "outputs": [
    {
     "data": {
      "text/plain": [
       "(428,)"
      ]
     },
     "execution_count": 58,
     "metadata": {},
     "output_type": "execute_result"
    }
   ],
   "source": [
    "failed_questions_ids.shape"
   ]
  },
  {
   "cell_type": "code",
   "execution_count": 59,
   "metadata": {
    "collapsed": false
   },
   "outputs": [
    {
     "name": "stderr",
     "output_type": "stream",
     "text": [
      "/home/ubuntu/anaconda2/lib/python2.7/site-packages/ipykernel/__main__.py:1: SettingWithCopyWarning: \n",
      "A value is trying to be set on a copy of a slice from a DataFrame.\n",
      "Try using .loc[row_indexer,col_indexer] = value instead\n",
      "\n",
      "See the caveats in the documentation: http://pandas.pydata.org/pandas-docs/stable/indexing.html#indexing-view-versus-copy\n",
      "  if __name__ == '__main__':\n"
     ]
    }
   ],
   "source": [
    "questions['success'] = questions['id'].isin(failed_questions_ids).apply(lambda b: 0 if b else 1)"
   ]
  },
  {
   "cell_type": "code",
   "execution_count": 60,
   "metadata": {
    "collapsed": false
   },
   "outputs": [
    {
     "data": {
      "text/html": [
       "<div>\n",
       "<table border=\"1\" class=\"dataframe\">\n",
       "  <thead>\n",
       "    <tr style=\"text-align: right;\">\n",
       "      <th></th>\n",
       "      <th>title</th>\n",
       "      <th>paragraphs</th>\n",
       "      <th>id</th>\n",
       "      <th>posttypeid</th>\n",
       "      <th>acceptedanswerid</th>\n",
       "      <th>creationdate</th>\n",
       "      <th>tags</th>\n",
       "      <th>parentid</th>\n",
       "      <th>codes</th>\n",
       "      <th>success</th>\n",
       "    </tr>\n",
       "  </thead>\n",
       "  <tbody>\n",
       "    <tr>\n",
       "      <th>0</th>\n",
       "      <td>using javascript to change text on a window re...</td>\n",
       "      <td>the problem at the moment is that when the win...</td>\n",
       "      <td>35821438</td>\n",
       "      <td>1</td>\n",
       "      <td>NaN</td>\n",
       "      <td>2016-03-06 00:00:05.190</td>\n",
       "      <td>javascript  jquery  html</td>\n",
       "      <td>NaN</td>\n",
       "      <td>var myspan = document.getElementById('players-...</td>\n",
       "      <td>0</td>\n",
       "    </tr>\n",
       "  </tbody>\n",
       "</table>\n",
       "</div>"
      ],
      "text/plain": [
       "                                               title  \\\n",
       "0  using javascript to change text on a window re...   \n",
       "\n",
       "                                          paragraphs        id posttypeid  \\\n",
       "0  the problem at the moment is that when the win...  35821438          1   \n",
       "\n",
       "  acceptedanswerid            creationdate                        tags  \\\n",
       "0              NaN 2016-03-06 00:00:05.190   javascript  jquery  html    \n",
       "\n",
       "  parentid                                              codes  success  \n",
       "0      NaN  var myspan = document.getElementById('players-...        0  "
      ]
     },
     "execution_count": 60,
     "metadata": {},
     "output_type": "execute_result"
    }
   ],
   "source": [
    "questions.head(1)"
   ]
  },
  {
   "cell_type": "code",
   "execution_count": 61,
   "metadata": {
    "collapsed": false
   },
   "outputs": [],
   "source": [
    "cls_df = questions[['title', 'paragraphs', 'tags', 'success']]"
   ]
  },
  {
   "cell_type": "code",
   "execution_count": 62,
   "metadata": {
    "collapsed": false
   },
   "outputs": [
    {
     "data": {
      "text/html": [
       "<div>\n",
       "<table border=\"1\" class=\"dataframe\">\n",
       "  <thead>\n",
       "    <tr style=\"text-align: right;\">\n",
       "      <th></th>\n",
       "      <th>title</th>\n",
       "      <th>paragraphs</th>\n",
       "      <th>tags</th>\n",
       "      <th>success</th>\n",
       "    </tr>\n",
       "  </thead>\n",
       "  <tbody>\n",
       "    <tr>\n",
       "      <th>0</th>\n",
       "      <td>using javascript to change text on a window re...</td>\n",
       "      <td>the problem at the moment is that when the win...</td>\n",
       "      <td>javascript  jquery  html</td>\n",
       "      <td>0</td>\n",
       "    </tr>\n",
       "    <tr>\n",
       "      <th>1</th>\n",
       "      <td>GNUMake link step not work for certain libraries</td>\n",
       "      <td>I can't figure out why my binary does not link...</td>\n",
       "      <td>linker  gnu-make  gnu  ld</td>\n",
       "      <td>1</td>\n",
       "    </tr>\n",
       "    <tr>\n",
       "      <th>3</th>\n",
       "      <td>Javascript cannot unhide element after cloning?</td>\n",
       "      <td>I'm working on something where multiple functi...</td>\n",
       "      <td>javascript  html  dom  asynchronous</td>\n",
       "      <td>1</td>\n",
       "    </tr>\n",
       "    <tr>\n",
       "      <th>6</th>\n",
       "      <td>Why is my onclick event not executing?</td>\n",
       "      <td>I have a simple button that executes a javascr...</td>\n",
       "      <td>javascript  html</td>\n",
       "      <td>1</td>\n",
       "    </tr>\n",
       "    <tr>\n",
       "      <th>7</th>\n",
       "      <td>Verifying signature of a file using the certif...</td>\n",
       "      <td>I am totally new to security and signature ver...</td>\n",
       "      <td>java  security  bouncycastle  verification  p...</td>\n",
       "      <td>1</td>\n",
       "    </tr>\n",
       "  </tbody>\n",
       "</table>\n",
       "</div>"
      ],
      "text/plain": [
       "                                               title  \\\n",
       "0  using javascript to change text on a window re...   \n",
       "1   GNUMake link step not work for certain libraries   \n",
       "3    Javascript cannot unhide element after cloning?   \n",
       "6             Why is my onclick event not executing?   \n",
       "7  Verifying signature of a file using the certif...   \n",
       "\n",
       "                                          paragraphs  \\\n",
       "0  the problem at the moment is that when the win...   \n",
       "1  I can't figure out why my binary does not link...   \n",
       "3  I'm working on something where multiple functi...   \n",
       "6  I have a simple button that executes a javascr...   \n",
       "7  I am totally new to security and signature ver...   \n",
       "\n",
       "                                                tags  success  \n",
       "0                          javascript  jquery  html         0  \n",
       "1                         linker  gnu-make  gnu  ld         1  \n",
       "3               javascript  html  dom  asynchronous         1  \n",
       "6                                  javascript  html         1  \n",
       "7   java  security  bouncycastle  verification  p...        1  "
      ]
     },
     "execution_count": 62,
     "metadata": {},
     "output_type": "execute_result"
    }
   ],
   "source": [
    "cls_df.head()"
   ]
  },
  {
   "cell_type": "code",
   "execution_count": 63,
   "metadata": {
    "collapsed": false
   },
   "outputs": [],
   "source": [
    "cls_train = cls_df.sample(int(cls_df.shape[0] / 2))"
   ]
  },
  {
   "cell_type": "code",
   "execution_count": 64,
   "metadata": {
    "collapsed": false
   },
   "outputs": [],
   "source": [
    "cls_test = cls_df[~cls_df.index.isin(cls_train.index)]"
   ]
  },
  {
   "cell_type": "markdown",
   "metadata": {},
   "source": [
    "### Logistic regression"
   ]
  },
  {
   "cell_type": "code",
   "execution_count": 65,
   "metadata": {
    "collapsed": false
   },
   "outputs": [],
   "source": [
    "pipeline = Pipeline(feature_union + [\n",
    "#        ('to_dense', DenseTransformer()),\n",
    "        ('cls', LogisticRegression()),\n",
    "    ])"
   ]
  },
  {
   "cell_type": "code",
   "execution_count": 66,
   "metadata": {
    "collapsed": false
   },
   "outputs": [
    {
     "name": "stdout",
     "output_type": "stream",
     "text": [
      "             precision    recall  f1-score   support\n",
      "\n",
      "          0       1.00      0.58      0.73       365\n",
      "          1       0.00      0.00      0.00         0\n",
      "\n",
      "avg / total       1.00      0.58      0.73       365\n",
      "\n"
     ]
    },
    {
     "name": "stderr",
     "output_type": "stream",
     "text": [
      "/home/ubuntu/anaconda2/lib/python2.7/site-packages/sklearn/metrics/classification.py:1076: UndefinedMetricWarning: Recall and F-score are ill-defined and being set to 0.0 in labels with no true samples.\n",
      "  'recall', 'true', average, warn_for)\n"
     ]
    }
   ],
   "source": [
    "pipeline.fit(cls_train[['title', 'paragraphs', 'tags']], cls_train['success'])\n",
    "y = pipeline.predict(cls_test[['title', 'paragraphs', 'tags']])\n",
    "print(classification_report(y, cls_test['success']))"
   ]
  },
  {
   "cell_type": "code",
   "execution_count": 67,
   "metadata": {
    "collapsed": true
   },
   "outputs": [],
   "source": [
    "random_guesses = cls_df.success.sample(cls_test.shape[0])"
   ]
  },
  {
   "cell_type": "code",
   "execution_count": 68,
   "metadata": {
    "collapsed": false
   },
   "outputs": [
    {
     "name": "stdout",
     "output_type": "stream",
     "text": [
      "             precision    recall  f1-score   support\n",
      "\n",
      "          0       0.63      0.62      0.63       215\n",
      "          1       0.47      0.49      0.48       150\n",
      "\n",
      "avg / total       0.57      0.56      0.57       365\n",
      "\n"
     ]
    }
   ],
   "source": [
    "print(classification_report(random_guesses, cls_test['success']))"
   ]
  },
  {
   "cell_type": "code",
   "execution_count": 69,
   "metadata": {
    "collapsed": false
   },
   "outputs": [],
   "source": [
    "scores = pipeline.decision_function(cls_test[['title', 'paragraphs', 'tags']])\n",
    "fpr, tpr, thresholds = metrics.roc_curve(cls_test['success'], scores, pos_label=1)"
   ]
  },
  {
   "cell_type": "code",
   "execution_count": 70,
   "metadata": {
    "collapsed": false
   },
   "outputs": [
    {
     "name": "stdout",
     "output_type": "stream",
     "text": [
      "Area under curve is 0.641382488479\n"
     ]
    },
    {
     "data": {
      "image/png": "[encoded data removed]",
      "text/plain": [
       "<matplotlib.figure.Figure at 0x7f05fd492ed0>"
      ]
     },
     "metadata": {
      "image/png": {
       "height": 589,
       "width": 817
      }
     },
     "output_type": "display_data"
    }
   ],
   "source": [
    "plt.figure()\n",
    "plt.plot(fpr, tpr)\n",
    "plt.xlabel(\"False positive rate\")\n",
    "plt.ylabel(\"True positive rate\")\n",
    "plt.savefig(\"./logistic_regression_roc.png\")\n",
    "plt.title(\"ROC of logistic regression classifier\")\n",
    "print(\"Area under curve is {}\".format(metrics.auc(fpr, tpr)))"
   ]
  },
  {
   "cell_type": "markdown",
   "metadata": {},
   "source": [
    "### Random Forest"
   ]
  },
  {
   "cell_type": "raw",
   "metadata": {
    "collapsed": false
   },
   "source": [
    "pipeline = Pipeline(feature_union + [\n",
    "#        ('to_dense', DenseTransformer()),\n",
    "        ('cls', RandomForestClassifier(n_jobs=4, class_weight='balanced')),\n",
    "    ])\n",
    "pipeline.fit(cls_train[['title', 'body', 'tags']], cls_train['success'])\n",
    "y = pipeline.predict(cls_test[['title', 'body', 'tags']])\n",
    "print(classification_report(y, cls_test['success']))"
   ]
  },
  {
   "cell_type": "raw",
   "metadata": {
    "collapsed": false
   },
   "source": [
    "scores = pipeline.predict_proba(cls_test[['title', 'body', 'tags']])"
   ]
  },
  {
   "cell_type": "raw",
   "metadata": {
    "collapsed": true
   },
   "source": [
    "fpr, tpr, thresholds = metrics.roc_curve(cls_test['success'], scores[:, 1], pos_label=1)"
   ]
  },
  {
   "cell_type": "raw",
   "metadata": {
    "collapsed": false
   },
   "source": [
    "plt.figure()\n",
    "plt.plot(fpr, tpr)\n",
    "plt.xlabel(\"False positive rate\")\n",
    "plt.ylabel(\"True positive rate\")\n",
    "plt.savefig(\"./random_forest_roc.png\")\n",
    "plt.title(\"ROC of random forest classifier\")\n",
    "print(\"Area under curve is {}\".format(metrics.auc(fpr, tpr)))"
   ]
  },
  {
   "cell_type": "markdown",
   "metadata": {},
   "source": [
    "## TODO Predict when an accepted will be posted"
   ]
  },
  {
   "cell_type": "code",
   "execution_count": 71,
   "metadata": {
    "collapsed": false
   },
   "outputs": [
    {
     "data": {
      "text/plain": [
       "<matplotlib.text.Text at 0x7f05f7717e50>"
      ]
     },
     "execution_count": 71,
     "metadata": {},
     "output_type": "execute_result"
    },
    {
     "data": {
      "image/png": "[encoded data removed]",
      "text/plain": [
       "<matplotlib.figure.Figure at 0x7f05ff8fc090>"
      ]
     },
     "metadata": {
      "image/png": {
       "height": 575,
       "width": 786
      }
     },
     "output_type": "display_data"
    }
   ],
   "source": [
    "q_a.ElapsedTime.hist(bins=400)\n",
    "plt.xlabel('Elapsed Time (Minute)')"
   ]
  },
  {
   "cell_type": "markdown",
   "metadata": {},
   "source": [
    "# Votes\n",
    "- Id\n",
    "- PostId\n",
    "- VoteTypeId (listed in the VoteTypes table)\n",
    "  1. AcceptedByOriginator\n",
    "  2. UpMod (AKA upvote)\n",
    "  3. DownMod (AKA downvote)\n",
    "  4. Offensive\n",
    "  5. Favorite (UserId will also be populated)\n",
    "  6. Close (since 2013-06-25 close votes are ONLY stored in the PostHistory table)\n",
    "  7. Reopen\n",
    "  8. BountyStart (UserId and BountyAmount will also be populated)\n",
    "  9. BountyClose (BountyAmount will also be populated)\n",
    "  10. Deletion\n",
    "  11. Undeletion\n",
    "  12. Spam\n",
    "  15. ModeratorReview\n",
    "  16. ApproveEditSuggestion\n",
    "- UserId (only present if VoteTypeId is 5 or 8)\n",
    "- CreationDate (time data is purposefully removed to protect user privacy)\n",
    "- BountyAmount (only present if VoteTypeId is 8 or 9)"
   ]
  },
  {
   "cell_type": "code",
   "execution_count": 72,
   "metadata": {
    "collapsed": false
   },
   "outputs": [
    {
     "ename": "NameError",
     "evalue": "name 'con' is not defined",
     "output_type": "error",
     "traceback": [
      "\u001b[1;31m---------------------------------------------------------------------------\u001b[0m",
      "\u001b[1;31mNameError\u001b[0m                                 Traceback (most recent call last)",
      "\u001b[1;32m<ipython-input-72-61fb156e2522>\u001b[0m in \u001b[0;36m<module>\u001b[1;34m()\u001b[0m\n\u001b[0;32m      4\u001b[0m \u001b[0mlimit\u001b[0m \u001b[1;36m10\u001b[0m\u001b[1;33m;\u001b[0m\u001b[1;33m\u001b[0m\u001b[0m\n\u001b[0;32m      5\u001b[0m \"\"\"\n\u001b[1;32m----> 6\u001b[1;33m \u001b[0mvotes\u001b[0m \u001b[1;33m=\u001b[0m \u001b[0mpd\u001b[0m\u001b[1;33m.\u001b[0m\u001b[0mread_sql_query\u001b[0m\u001b[1;33m(\u001b[0m\u001b[0msql_query\u001b[0m\u001b[1;33m,\u001b[0m \u001b[0mcon\u001b[0m\u001b[1;33m)\u001b[0m\u001b[1;33m\u001b[0m\u001b[0m\n\u001b[0m",
      "\u001b[1;31mNameError\u001b[0m: name 'con' is not defined"
     ]
    }
   ],
   "source": [
    "sql_query = \"\"\"\n",
    "SELECT * FROM votes\n",
    "where creationdate > '2008-07-01'\n",
    "limit 10;\n",
    "\"\"\"\n",
    "votes = pd.read_sql_query(sql_query, con)"
   ]
  },
  {
   "cell_type": "code",
   "execution_count": null,
   "metadata": {
    "collapsed": false
   },
   "outputs": [],
   "source": [
    "votes"
   ]
  },
  {
   "cell_type": "markdown",
   "metadata": {},
   "source": [
    "# Users\n",
    "\n",
    "- Id\n",
    "- Reputation\n",
    "- CreationDate\n",
    "- DisplayName\n",
    "- LastAccessDate\n",
    "- WebsiteUrl\n",
    "- Location\n",
    "- AboutMe\n",
    "- Views\n",
    "- UpVotes (how many upvotes the user has cast)\n",
    "- DownVotes\n",
    "- EmailHash (now always blank)\n",
    "- AccountId (StackExchange Network profile Id of the user)\n",
    "- Age"
   ]
  },
  {
   "cell_type": "code",
   "execution_count": null,
   "metadata": {
    "collapsed": true
   },
   "outputs": [],
   "source": [
    "sql_query = \"\"\"\n",
    "SELECT * FROM users limit 2;\n",
    "\"\"\"\n",
    "users= pd.read_sql_query(sql_query, con)"
   ]
  },
  {
   "cell_type": "code",
   "execution_count": null,
   "metadata": {
    "collapsed": false
   },
   "outputs": [],
   "source": [
    "users"
   ]
  },
  {
   "cell_type": "markdown",
   "metadata": {},
   "source": [
    "## TODO Remove the user with id = -1"
   ]
  },
  {
   "cell_type": "markdown",
   "metadata": {},
   "source": [
    "# Tags\n",
    "- Id\n",
    "- TagName\n",
    "- Count\n",
    "- ExcerptPostId\n",
    "- WikiPostId"
   ]
  },
  {
   "cell_type": "code",
   "execution_count": null,
   "metadata": {
    "collapsed": true
   },
   "outputs": [],
   "source": [
    "sql_query = \"\"\"\n",
    "SELECT * FROM tags limit 2;\n",
    "\"\"\"\n",
    "tags = pd.read_sql_query(sql_query, con)"
   ]
  },
  {
   "cell_type": "code",
   "execution_count": null,
   "metadata": {
    "collapsed": false
   },
   "outputs": [],
   "source": [
    "tags"
   ]
  },
  {
   "cell_type": "markdown",
   "metadata": {},
   "source": [
    "# Badges\n",
    "- Id\n",
    "- UserId, e.g.: \"420\"\n",
    "- Name, e.g.: \"Teacher\"\n",
    "- Date, e.g.: \"2008-09-15T08:55:03.923\"\n",
    "- Class\n",
    "- Gold\n",
    "- Silver\n",
    "- Bronze\n",
    "- TagBased, true if badge is for a tag, otherwise it is a named badge"
   ]
  },
  {
   "cell_type": "code",
   "execution_count": null,
   "metadata": {
    "collapsed": true
   },
   "outputs": [],
   "source": [
    "sql_query = \"\"\"\n",
    "SELECT * FROM badges limit 2;\n",
    "\"\"\"\n",
    "badges = pd.read_sql_query(sql_query, con)"
   ]
  },
  {
   "cell_type": "code",
   "execution_count": null,
   "metadata": {
    "collapsed": false
   },
   "outputs": [],
   "source": [
    "badges"
   ]
  },
  {
   "cell_type": "code",
   "execution_count": null,
   "metadata": {
    "collapsed": true
   },
   "outputs": [],
   "source": [
    "sql_query = \"\"\"\n",
    "SELECT * FROM badges where userid = 3718;\n",
    "\"\"\"\n",
    "badges = pd.read_sql_query(sql_query, con)"
   ]
  },
  {
   "cell_type": "code",
   "execution_count": null,
   "metadata": {
    "collapsed": false
   },
   "outputs": [],
   "source": [
    "badges"
   ]
  },
  {
   "cell_type": "code",
   "execution_count": null,
   "metadata": {
    "collapsed": true
   },
   "outputs": [],
   "source": []
  }
 ],
 "metadata": {
  "kernelspec": {
   "display_name": "Python 2",
   "language": "python",
   "name": "python2"
  },
  "language_info": {
   "codemirror_mode": {
    "name": "ipython",
    "version": 2
   },
   "file_extension": ".py",
   "mimetype": "text/x-python",
   "name": "python",
   "nbconvert_exporter": "python",
   "pygments_lexer": "ipython2",
   "version": "2.7.11"
  }
 },
 "nbformat": 4,
 "nbformat_minor": 0
}
